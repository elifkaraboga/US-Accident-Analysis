{
 "cells": [
  {
   "cell_type": "markdown",
   "metadata": {
    "id": "ARBArCAAvLpk"
   },
   "source": [
    "# us-accidents-analysis\n",
    "\n",
    "Use the \"Run\" button to execute the code."
   ]
  },
  {
   "cell_type": "code",
   "execution_count": null,
   "metadata": {
    "id": "LQP_aWqavLpm"
   },
   "outputs": [],
   "source": [
    "!pip install jovian --upgrade --quiet"
   ]
  },
  {
   "cell_type": "code",
   "execution_count": null,
   "metadata": {
    "id": "_SeQcmHqvLpn"
   },
   "outputs": [],
   "source": [
    "import jovian"
   ]
  },
  {
   "cell_type": "code",
   "execution_count": null,
   "metadata": {
    "id": "V-r-OxWVvLpo"
   },
   "outputs": [],
   "source": [
    "# Execute this to save new versions of the notebook\n",
    "jovian.commit(project=\"us-accidents-analysis\")"
   ]
  },
  {
   "cell_type": "code",
   "execution_count": null,
   "metadata": {
    "id": "rFAjxM3TvLpq"
   },
   "outputs": [],
   "source": []
  },
  {
   "cell_type": "markdown",
   "metadata": {
    "id": "KB9FNpzPvZI7"
   },
   "source": [
    "# US Accidents Exploratory Data Analysis\n",
    "TODO - Talk about EDA \n",
    "TODO - Talk about dataset (source, what it contains, how it will be useful)\n",
    "     \n",
    "\n",
    "*   Kaggle\n",
    "*   information about accidents\n",
    "*   can be useful to prevent accidents\n",
    "*   mention that this doesn't contains data about New York\n",
    "\n",
    "\n",
    "\n",
    "\n",
    "\n",
    "\n",
    "\n",
    "\n"
   ]
  },
  {
   "cell_type": "code",
   "execution_count": 3,
   "metadata": {
    "executionInfo": {
     "elapsed": 3259,
     "status": "ok",
     "timestamp": 1623678563810,
     "user": {
      "displayName": "Elif Karaboga",
      "photoUrl": "https://lh3.googleusercontent.com/a-/AOh14Gi3My-ypBw9CYZ21jJZatx__T6CC1RXP3T-MAt70Q=s64",
      "userId": "00247782612075877940"
     },
     "user_tz": -180
    },
    "id": "pIyxOuSGxhMV"
   },
   "outputs": [],
   "source": [
    "pip install opendatasets --upgrade --quiet\n"
   ]
  },
  {
   "cell_type": "code",
   "execution_count": 10,
   "metadata": {
    "colab": {
     "base_uri": "https://localhost:8080/"
    },
    "executionInfo": {
     "elapsed": 22956,
     "status": "ok",
     "timestamp": 1623679267853,
     "user": {
      "displayName": "Elif Karaboga",
      "photoUrl": "https://lh3.googleusercontent.com/a-/AOh14Gi3My-ypBw9CYZ21jJZatx__T6CC1RXP3T-MAt70Q=s64",
      "userId": "00247782612075877940"
     },
     "user_tz": -180
    },
    "id": "D9-pQoRvv0Gn",
    "outputId": "9e05b752-e318-4989-e02c-a69a809d7867"
   },
   "outputs": [
    {
     "name": "stdout",
     "output_type": "stream",
     "text": [
      "Please provide your Kaggle credentials to download this dataset. Learn more: http://bit.ly/kaggle-creds\n",
      "Your Kaggle username: elifkaraboga\n",
      "Your Kaggle Key: ··········\n"
     ]
    },
    {
     "name": "stderr",
     "output_type": "stream",
     "text": [
      "  3%|▎         | 8.00M/290M [00:00<00:03, 81.1MB/s]"
     ]
    },
    {
     "name": "stdout",
     "output_type": "stream",
     "text": [
      "Downloading us-accidents.zip to ./us-accidents\n"
     ]
    },
    {
     "name": "stderr",
     "output_type": "stream",
     "text": [
      "100%|██████████| 290M/290M [00:03<00:00, 92.3MB/s]\n"
     ]
    },
    {
     "name": "stdout",
     "output_type": "stream",
     "text": [
      "\n"
     ]
    }
   ],
   "source": [
    "import opendatasets as od\n",
    "\n",
    "download_url = 'https://www.kaggle.com/sobhanmoosavi/us-accidents'\n",
    "\n",
    "od.download(download_url)"
   ]
  },
  {
   "cell_type": "code",
   "execution_count": 12,
   "metadata": {
    "executionInfo": {
     "elapsed": 467,
     "status": "ok",
     "timestamp": 1623679507852,
     "user": {
      "displayName": "Elif Karaboga",
      "photoUrl": "https://lh3.googleusercontent.com/a-/AOh14Gi3My-ypBw9CYZ21jJZatx__T6CC1RXP3T-MAt70Q=s64",
      "userId": "00247782612075877940"
     },
     "user_tz": -180
    },
    "id": "0ckpfT9j1Tmw"
   },
   "outputs": [],
   "source": [
    "data_filename = './us-accidents/US_Accidents_Dec20_Updated.csv'"
   ]
  },
  {
   "cell_type": "markdown",
   "metadata": {
    "id": "Df3p5odVwK0-"
   },
   "source": [
    "# Data Preparation and Cleaning\n",
    "*   Load the file using Pandas\n",
    "*   Look at some information about the data and columns\n",
    "*   Fix any missing or incorrect information\n",
    "\n",
    "\n",
    "\n",
    "\n"
   ]
  },
  {
   "cell_type": "code",
   "execution_count": 15,
   "metadata": {
    "executionInfo": {
     "elapsed": 455,
     "status": "ok",
     "timestamp": 1623679682075,
     "user": {
      "displayName": "Elif Karaboga",
      "photoUrl": "https://lh3.googleusercontent.com/a-/AOh14Gi3My-ypBw9CYZ21jJZatx__T6CC1RXP3T-MAt70Q=s64",
      "userId": "00247782612075877940"
     },
     "user_tz": -180
    },
    "id": "mdA9LGI5wV2J"
   },
   "outputs": [],
   "source": [
    "import pandas as pd "
   ]
  },
  {
   "cell_type": "code",
   "execution_count": 16,
   "metadata": {
    "executionInfo": {
     "elapsed": 26105,
     "status": "ok",
     "timestamp": 1623679806478,
     "user": {
      "displayName": "Elif Karaboga",
      "photoUrl": "https://lh3.googleusercontent.com/a-/AOh14Gi3My-ypBw9CYZ21jJZatx__T6CC1RXP3T-MAt70Q=s64",
      "userId": "00247782612075877940"
     },
     "user_tz": -180
    },
    "id": "LrNjI3_KwWOG"
   },
   "outputs": [],
   "source": [
    "df = pd.read_csv(data_filename)"
   ]
  },
  {
   "cell_type": "code",
   "execution_count": 17,
   "metadata": {
    "colab": {
     "base_uri": "https://localhost:8080/",
     "height": 949
    },
    "executionInfo": {
     "elapsed": 828,
     "status": "ok",
     "timestamp": 1623679829187,
     "user": {
      "displayName": "Elif Karaboga",
      "photoUrl": "https://lh3.googleusercontent.com/a-/AOh14Gi3My-ypBw9CYZ21jJZatx__T6CC1RXP3T-MAt70Q=s64",
      "userId": "00247782612075877940"
     },
     "user_tz": -180
    },
    "id": "4II25nxcwWit",
    "outputId": "075bbdb2-2023-4941-d537-3ebee8d004f5"
   },
   "outputs": [
    {
     "data": {
      "text/html": [
       "<div>\n",
       "<style scoped>\n",
       "    .dataframe tbody tr th:only-of-type {\n",
       "        vertical-align: middle;\n",
       "    }\n",
       "\n",
       "    .dataframe tbody tr th {\n",
       "        vertical-align: top;\n",
       "    }\n",
       "\n",
       "    .dataframe thead th {\n",
       "        text-align: right;\n",
       "    }\n",
       "</style>\n",
       "<table border=\"1\" class=\"dataframe\">\n",
       "  <thead>\n",
       "    <tr style=\"text-align: right;\">\n",
       "      <th></th>\n",
       "      <th>ID</th>\n",
       "      <th>Severity</th>\n",
       "      <th>Start_Time</th>\n",
       "      <th>End_Time</th>\n",
       "      <th>Start_Lat</th>\n",
       "      <th>Start_Lng</th>\n",
       "      <th>End_Lat</th>\n",
       "      <th>End_Lng</th>\n",
       "      <th>Distance(mi)</th>\n",
       "      <th>Description</th>\n",
       "      <th>Number</th>\n",
       "      <th>Street</th>\n",
       "      <th>Side</th>\n",
       "      <th>City</th>\n",
       "      <th>County</th>\n",
       "      <th>State</th>\n",
       "      <th>Zipcode</th>\n",
       "      <th>Country</th>\n",
       "      <th>Timezone</th>\n",
       "      <th>Airport_Code</th>\n",
       "      <th>Weather_Timestamp</th>\n",
       "      <th>Temperature(F)</th>\n",
       "      <th>Wind_Chill(F)</th>\n",
       "      <th>Humidity(%)</th>\n",
       "      <th>Pressure(in)</th>\n",
       "      <th>Visibility(mi)</th>\n",
       "      <th>Wind_Direction</th>\n",
       "      <th>Wind_Speed(mph)</th>\n",
       "      <th>Precipitation(in)</th>\n",
       "      <th>Weather_Condition</th>\n",
       "      <th>Amenity</th>\n",
       "      <th>Bump</th>\n",
       "      <th>Crossing</th>\n",
       "      <th>Give_Way</th>\n",
       "      <th>Junction</th>\n",
       "      <th>No_Exit</th>\n",
       "      <th>Railway</th>\n",
       "      <th>Roundabout</th>\n",
       "      <th>Station</th>\n",
       "      <th>Stop</th>\n",
       "      <th>Traffic_Calming</th>\n",
       "      <th>Traffic_Signal</th>\n",
       "      <th>Turning_Loop</th>\n",
       "      <th>Sunrise_Sunset</th>\n",
       "      <th>Civil_Twilight</th>\n",
       "      <th>Nautical_Twilight</th>\n",
       "      <th>Astronomical_Twilight</th>\n",
       "    </tr>\n",
       "  </thead>\n",
       "  <tbody>\n",
       "    <tr>\n",
       "      <th>0</th>\n",
       "      <td>A-1</td>\n",
       "      <td>2</td>\n",
       "      <td>2019-05-21 08:29:55</td>\n",
       "      <td>2019-05-21 09:29:40</td>\n",
       "      <td>34.808868</td>\n",
       "      <td>-82.269157</td>\n",
       "      <td>34.808868</td>\n",
       "      <td>-82.269157</td>\n",
       "      <td>0.000</td>\n",
       "      <td>Accident on Tanner Rd at Pennbrooke Ln.</td>\n",
       "      <td>439.0</td>\n",
       "      <td>Tanner Rd</td>\n",
       "      <td>R</td>\n",
       "      <td>Greenville</td>\n",
       "      <td>Greenville</td>\n",
       "      <td>SC</td>\n",
       "      <td>29607-6027</td>\n",
       "      <td>US</td>\n",
       "      <td>US/Eastern</td>\n",
       "      <td>KGMU</td>\n",
       "      <td>2019-05-21 08:53:00</td>\n",
       "      <td>76.0</td>\n",
       "      <td>76.0</td>\n",
       "      <td>52.0</td>\n",
       "      <td>28.91</td>\n",
       "      <td>10.0</td>\n",
       "      <td>N</td>\n",
       "      <td>7.0</td>\n",
       "      <td>0.0</td>\n",
       "      <td>Fair</td>\n",
       "      <td>False</td>\n",
       "      <td>False</td>\n",
       "      <td>False</td>\n",
       "      <td>False</td>\n",
       "      <td>False</td>\n",
       "      <td>False</td>\n",
       "      <td>False</td>\n",
       "      <td>False</td>\n",
       "      <td>False</td>\n",
       "      <td>False</td>\n",
       "      <td>False</td>\n",
       "      <td>False</td>\n",
       "      <td>False</td>\n",
       "      <td>Day</td>\n",
       "      <td>Day</td>\n",
       "      <td>Day</td>\n",
       "      <td>Day</td>\n",
       "    </tr>\n",
       "    <tr>\n",
       "      <th>1</th>\n",
       "      <td>A-2</td>\n",
       "      <td>2</td>\n",
       "      <td>2019-10-07 17:43:09</td>\n",
       "      <td>2019-10-07 19:42:50</td>\n",
       "      <td>35.090080</td>\n",
       "      <td>-80.745560</td>\n",
       "      <td>35.090080</td>\n",
       "      <td>-80.745560</td>\n",
       "      <td>0.000</td>\n",
       "      <td>Accident on Houston Branch Rd at Providence Br...</td>\n",
       "      <td>3299.0</td>\n",
       "      <td>Providence Branch Ln</td>\n",
       "      <td>R</td>\n",
       "      <td>Charlotte</td>\n",
       "      <td>Mecklenburg</td>\n",
       "      <td>NC</td>\n",
       "      <td>28270-8560</td>\n",
       "      <td>US</td>\n",
       "      <td>US/Eastern</td>\n",
       "      <td>KEQY</td>\n",
       "      <td>2019-10-07 17:53:00</td>\n",
       "      <td>76.0</td>\n",
       "      <td>76.0</td>\n",
       "      <td>62.0</td>\n",
       "      <td>29.30</td>\n",
       "      <td>10.0</td>\n",
       "      <td>VAR</td>\n",
       "      <td>3.0</td>\n",
       "      <td>0.0</td>\n",
       "      <td>Cloudy</td>\n",
       "      <td>False</td>\n",
       "      <td>False</td>\n",
       "      <td>False</td>\n",
       "      <td>False</td>\n",
       "      <td>False</td>\n",
       "      <td>False</td>\n",
       "      <td>False</td>\n",
       "      <td>False</td>\n",
       "      <td>False</td>\n",
       "      <td>False</td>\n",
       "      <td>False</td>\n",
       "      <td>False</td>\n",
       "      <td>False</td>\n",
       "      <td>Day</td>\n",
       "      <td>Day</td>\n",
       "      <td>Day</td>\n",
       "      <td>Day</td>\n",
       "    </tr>\n",
       "    <tr>\n",
       "      <th>2</th>\n",
       "      <td>A-3</td>\n",
       "      <td>2</td>\n",
       "      <td>2020-12-13 21:53:00</td>\n",
       "      <td>2020-12-13 22:44:00</td>\n",
       "      <td>37.145730</td>\n",
       "      <td>-121.985052</td>\n",
       "      <td>37.165850</td>\n",
       "      <td>-121.988062</td>\n",
       "      <td>1.400</td>\n",
       "      <td>Stationary traffic on CA-17 from Summit Rd (CA...</td>\n",
       "      <td>NaN</td>\n",
       "      <td>Santa Cruz Hwy</td>\n",
       "      <td>R</td>\n",
       "      <td>Los Gatos</td>\n",
       "      <td>Santa Clara</td>\n",
       "      <td>CA</td>\n",
       "      <td>95033</td>\n",
       "      <td>US</td>\n",
       "      <td>US/Pacific</td>\n",
       "      <td>KSJC</td>\n",
       "      <td>2020-12-13 21:53:00</td>\n",
       "      <td>51.0</td>\n",
       "      <td>51.0</td>\n",
       "      <td>80.0</td>\n",
       "      <td>30.17</td>\n",
       "      <td>10.0</td>\n",
       "      <td>W</td>\n",
       "      <td>6.0</td>\n",
       "      <td>0.0</td>\n",
       "      <td>Fair</td>\n",
       "      <td>False</td>\n",
       "      <td>False</td>\n",
       "      <td>False</td>\n",
       "      <td>False</td>\n",
       "      <td>False</td>\n",
       "      <td>False</td>\n",
       "      <td>False</td>\n",
       "      <td>False</td>\n",
       "      <td>False</td>\n",
       "      <td>False</td>\n",
       "      <td>False</td>\n",
       "      <td>False</td>\n",
       "      <td>False</td>\n",
       "      <td>Night</td>\n",
       "      <td>Night</td>\n",
       "      <td>Night</td>\n",
       "      <td>Night</td>\n",
       "    </tr>\n",
       "    <tr>\n",
       "      <th>3</th>\n",
       "      <td>A-4</td>\n",
       "      <td>2</td>\n",
       "      <td>2018-04-17 16:51:23</td>\n",
       "      <td>2018-04-17 17:50:46</td>\n",
       "      <td>39.110390</td>\n",
       "      <td>-119.773781</td>\n",
       "      <td>39.110390</td>\n",
       "      <td>-119.773781</td>\n",
       "      <td>0.000</td>\n",
       "      <td>Accident on US-395 Southbound at Topsy Ln.</td>\n",
       "      <td>NaN</td>\n",
       "      <td>US Highway 395 S</td>\n",
       "      <td>R</td>\n",
       "      <td>Carson City</td>\n",
       "      <td>Douglas</td>\n",
       "      <td>NV</td>\n",
       "      <td>89705</td>\n",
       "      <td>US</td>\n",
       "      <td>US/Pacific</td>\n",
       "      <td>KCXP</td>\n",
       "      <td>2018-04-17 16:55:00</td>\n",
       "      <td>53.6</td>\n",
       "      <td>NaN</td>\n",
       "      <td>16.0</td>\n",
       "      <td>30.16</td>\n",
       "      <td>10.0</td>\n",
       "      <td>SSW</td>\n",
       "      <td>4.6</td>\n",
       "      <td>NaN</td>\n",
       "      <td>Clear</td>\n",
       "      <td>False</td>\n",
       "      <td>False</td>\n",
       "      <td>False</td>\n",
       "      <td>False</td>\n",
       "      <td>False</td>\n",
       "      <td>False</td>\n",
       "      <td>False</td>\n",
       "      <td>False</td>\n",
       "      <td>False</td>\n",
       "      <td>False</td>\n",
       "      <td>False</td>\n",
       "      <td>True</td>\n",
       "      <td>False</td>\n",
       "      <td>Day</td>\n",
       "      <td>Day</td>\n",
       "      <td>Day</td>\n",
       "      <td>Day</td>\n",
       "    </tr>\n",
       "    <tr>\n",
       "      <th>4</th>\n",
       "      <td>A-5</td>\n",
       "      <td>3</td>\n",
       "      <td>2016-08-31 17:40:49</td>\n",
       "      <td>2016-08-31 18:10:49</td>\n",
       "      <td>26.102942</td>\n",
       "      <td>-80.265091</td>\n",
       "      <td>26.102942</td>\n",
       "      <td>-80.265091</td>\n",
       "      <td>0.000</td>\n",
       "      <td>Accident on I-595 Westbound at Exit 4 / Pine I...</td>\n",
       "      <td>NaN</td>\n",
       "      <td>I-595 W</td>\n",
       "      <td>R</td>\n",
       "      <td>Fort Lauderdale</td>\n",
       "      <td>Broward</td>\n",
       "      <td>FL</td>\n",
       "      <td>33324</td>\n",
       "      <td>US</td>\n",
       "      <td>US/Eastern</td>\n",
       "      <td>KHWO</td>\n",
       "      <td>2016-08-31 17:53:00</td>\n",
       "      <td>84.2</td>\n",
       "      <td>NaN</td>\n",
       "      <td>84.0</td>\n",
       "      <td>29.92</td>\n",
       "      <td>10.0</td>\n",
       "      <td>SSE</td>\n",
       "      <td>13.8</td>\n",
       "      <td>NaN</td>\n",
       "      <td>Overcast</td>\n",
       "      <td>False</td>\n",
       "      <td>False</td>\n",
       "      <td>False</td>\n",
       "      <td>False</td>\n",
       "      <td>True</td>\n",
       "      <td>False</td>\n",
       "      <td>False</td>\n",
       "      <td>False</td>\n",
       "      <td>False</td>\n",
       "      <td>False</td>\n",
       "      <td>False</td>\n",
       "      <td>True</td>\n",
       "      <td>False</td>\n",
       "      <td>Day</td>\n",
       "      <td>Day</td>\n",
       "      <td>Day</td>\n",
       "      <td>Day</td>\n",
       "    </tr>\n",
       "    <tr>\n",
       "      <th>...</th>\n",
       "      <td>...</td>\n",
       "      <td>...</td>\n",
       "      <td>...</td>\n",
       "      <td>...</td>\n",
       "      <td>...</td>\n",
       "      <td>...</td>\n",
       "      <td>...</td>\n",
       "      <td>...</td>\n",
       "      <td>...</td>\n",
       "      <td>...</td>\n",
       "      <td>...</td>\n",
       "      <td>...</td>\n",
       "      <td>...</td>\n",
       "      <td>...</td>\n",
       "      <td>...</td>\n",
       "      <td>...</td>\n",
       "      <td>...</td>\n",
       "      <td>...</td>\n",
       "      <td>...</td>\n",
       "      <td>...</td>\n",
       "      <td>...</td>\n",
       "      <td>...</td>\n",
       "      <td>...</td>\n",
       "      <td>...</td>\n",
       "      <td>...</td>\n",
       "      <td>...</td>\n",
       "      <td>...</td>\n",
       "      <td>...</td>\n",
       "      <td>...</td>\n",
       "      <td>...</td>\n",
       "      <td>...</td>\n",
       "      <td>...</td>\n",
       "      <td>...</td>\n",
       "      <td>...</td>\n",
       "      <td>...</td>\n",
       "      <td>...</td>\n",
       "      <td>...</td>\n",
       "      <td>...</td>\n",
       "      <td>...</td>\n",
       "      <td>...</td>\n",
       "      <td>...</td>\n",
       "      <td>...</td>\n",
       "      <td>...</td>\n",
       "      <td>...</td>\n",
       "      <td>...</td>\n",
       "      <td>...</td>\n",
       "      <td>...</td>\n",
       "    </tr>\n",
       "    <tr>\n",
       "      <th>2906605</th>\n",
       "      <td>A-2906606</td>\n",
       "      <td>2</td>\n",
       "      <td>2018-06-28 08:49:01</td>\n",
       "      <td>2018-06-28 09:18:51</td>\n",
       "      <td>29.813824</td>\n",
       "      <td>-95.399437</td>\n",
       "      <td>29.813824</td>\n",
       "      <td>-95.399437</td>\n",
       "      <td>0.000</td>\n",
       "      <td>Accident on 30th St at Yale St.</td>\n",
       "      <td>3001.0</td>\n",
       "      <td>Yale St</td>\n",
       "      <td>L</td>\n",
       "      <td>Houston</td>\n",
       "      <td>Harris</td>\n",
       "      <td>TX</td>\n",
       "      <td>77018-8433</td>\n",
       "      <td>US</td>\n",
       "      <td>US/Central</td>\n",
       "      <td>KMCJ</td>\n",
       "      <td>2018-06-28 08:35:00</td>\n",
       "      <td>84.2</td>\n",
       "      <td>NaN</td>\n",
       "      <td>70.0</td>\n",
       "      <td>30.02</td>\n",
       "      <td>9.0</td>\n",
       "      <td>Variable</td>\n",
       "      <td>5.8</td>\n",
       "      <td>NaN</td>\n",
       "      <td>Clear</td>\n",
       "      <td>False</td>\n",
       "      <td>False</td>\n",
       "      <td>False</td>\n",
       "      <td>False</td>\n",
       "      <td>False</td>\n",
       "      <td>False</td>\n",
       "      <td>False</td>\n",
       "      <td>False</td>\n",
       "      <td>False</td>\n",
       "      <td>True</td>\n",
       "      <td>False</td>\n",
       "      <td>False</td>\n",
       "      <td>False</td>\n",
       "      <td>Day</td>\n",
       "      <td>Day</td>\n",
       "      <td>Day</td>\n",
       "      <td>Day</td>\n",
       "    </tr>\n",
       "    <tr>\n",
       "      <th>2906606</th>\n",
       "      <td>A-2906607</td>\n",
       "      <td>2</td>\n",
       "      <td>2019-01-10 02:01:01</td>\n",
       "      <td>2019-01-10 02:30:32</td>\n",
       "      <td>34.068890</td>\n",
       "      <td>-117.342010</td>\n",
       "      <td>34.068890</td>\n",
       "      <td>-117.342010</td>\n",
       "      <td>0.000</td>\n",
       "      <td>At Valley Blvd - Accident.</td>\n",
       "      <td>NaN</td>\n",
       "      <td>Cypress Ave</td>\n",
       "      <td>R</td>\n",
       "      <td>Colton</td>\n",
       "      <td>San Bernardino</td>\n",
       "      <td>CA</td>\n",
       "      <td>92324</td>\n",
       "      <td>US</td>\n",
       "      <td>US/Pacific</td>\n",
       "      <td>KSBD</td>\n",
       "      <td>2019-01-10 02:00:00</td>\n",
       "      <td>46.9</td>\n",
       "      <td>NaN</td>\n",
       "      <td>74.0</td>\n",
       "      <td>30.14</td>\n",
       "      <td>10.0</td>\n",
       "      <td>Calm</td>\n",
       "      <td>NaN</td>\n",
       "      <td>NaN</td>\n",
       "      <td>Clear</td>\n",
       "      <td>False</td>\n",
       "      <td>False</td>\n",
       "      <td>False</td>\n",
       "      <td>False</td>\n",
       "      <td>False</td>\n",
       "      <td>False</td>\n",
       "      <td>False</td>\n",
       "      <td>False</td>\n",
       "      <td>False</td>\n",
       "      <td>False</td>\n",
       "      <td>False</td>\n",
       "      <td>False</td>\n",
       "      <td>False</td>\n",
       "      <td>Night</td>\n",
       "      <td>Night</td>\n",
       "      <td>Night</td>\n",
       "      <td>Night</td>\n",
       "    </tr>\n",
       "    <tr>\n",
       "      <th>2906607</th>\n",
       "      <td>A-2906608</td>\n",
       "      <td>2</td>\n",
       "      <td>2020-11-23 12:52:00</td>\n",
       "      <td>2020-11-24 00:47:37</td>\n",
       "      <td>25.702200</td>\n",
       "      <td>-80.335556</td>\n",
       "      <td>25.703040</td>\n",
       "      <td>-80.334099</td>\n",
       "      <td>0.108</td>\n",
       "      <td>Stationary traffic on County Hwy-913 - FL-986 ...</td>\n",
       "      <td>8798.0</td>\n",
       "      <td>SW 72nd St</td>\n",
       "      <td>L</td>\n",
       "      <td>Miami</td>\n",
       "      <td>Miami-Dade</td>\n",
       "      <td>FL</td>\n",
       "      <td>33173-3512</td>\n",
       "      <td>US</td>\n",
       "      <td>US/Eastern</td>\n",
       "      <td>KTMB</td>\n",
       "      <td>2020-11-23 12:53:00</td>\n",
       "      <td>76.0</td>\n",
       "      <td>76.0</td>\n",
       "      <td>85.0</td>\n",
       "      <td>30.00</td>\n",
       "      <td>10.0</td>\n",
       "      <td>NNW</td>\n",
       "      <td>16.0</td>\n",
       "      <td>0.0</td>\n",
       "      <td>Mostly Cloudy</td>\n",
       "      <td>False</td>\n",
       "      <td>False</td>\n",
       "      <td>False</td>\n",
       "      <td>False</td>\n",
       "      <td>False</td>\n",
       "      <td>False</td>\n",
       "      <td>False</td>\n",
       "      <td>False</td>\n",
       "      <td>False</td>\n",
       "      <td>False</td>\n",
       "      <td>False</td>\n",
       "      <td>False</td>\n",
       "      <td>False</td>\n",
       "      <td>Day</td>\n",
       "      <td>Day</td>\n",
       "      <td>Day</td>\n",
       "      <td>Day</td>\n",
       "    </tr>\n",
       "    <tr>\n",
       "      <th>2906608</th>\n",
       "      <td>A-2906609</td>\n",
       "      <td>2</td>\n",
       "      <td>2019-12-29 22:38:00</td>\n",
       "      <td>2019-12-29 23:38:00</td>\n",
       "      <td>40.660140</td>\n",
       "      <td>-111.952460</td>\n",
       "      <td>40.660140</td>\n",
       "      <td>-111.952460</td>\n",
       "      <td>0.000</td>\n",
       "      <td>At UT-266/4700/Exit 15 - Accident.</td>\n",
       "      <td>NaN</td>\n",
       "      <td>I-215 N</td>\n",
       "      <td>R</td>\n",
       "      <td>Salt Lake City</td>\n",
       "      <td>Salt Lake</td>\n",
       "      <td>UT</td>\n",
       "      <td>84129</td>\n",
       "      <td>US</td>\n",
       "      <td>US/Mountain</td>\n",
       "      <td>KU42</td>\n",
       "      <td>2019-12-29 22:54:00</td>\n",
       "      <td>27.0</td>\n",
       "      <td>19.0</td>\n",
       "      <td>81.0</td>\n",
       "      <td>25.81</td>\n",
       "      <td>10.0</td>\n",
       "      <td>SSE</td>\n",
       "      <td>8.0</td>\n",
       "      <td>0.0</td>\n",
       "      <td>Cloudy</td>\n",
       "      <td>False</td>\n",
       "      <td>False</td>\n",
       "      <td>False</td>\n",
       "      <td>False</td>\n",
       "      <td>False</td>\n",
       "      <td>False</td>\n",
       "      <td>False</td>\n",
       "      <td>False</td>\n",
       "      <td>False</td>\n",
       "      <td>False</td>\n",
       "      <td>False</td>\n",
       "      <td>False</td>\n",
       "      <td>False</td>\n",
       "      <td>Night</td>\n",
       "      <td>Night</td>\n",
       "      <td>Night</td>\n",
       "      <td>Night</td>\n",
       "    </tr>\n",
       "    <tr>\n",
       "      <th>2906609</th>\n",
       "      <td>A-2906610</td>\n",
       "      <td>2</td>\n",
       "      <td>2018-03-26 13:35:03</td>\n",
       "      <td>2018-03-26 14:39:00</td>\n",
       "      <td>38.831749</td>\n",
       "      <td>-104.748161</td>\n",
       "      <td>38.831749</td>\n",
       "      <td>-104.748161</td>\n",
       "      <td>0.000</td>\n",
       "      <td>Accident on Murray Blvd at Byron Dr.</td>\n",
       "      <td>NaN</td>\n",
       "      <td>Byron Dr</td>\n",
       "      <td>R</td>\n",
       "      <td>Colorado Springs</td>\n",
       "      <td>El Paso</td>\n",
       "      <td>CO</td>\n",
       "      <td>80916</td>\n",
       "      <td>US</td>\n",
       "      <td>US/Mountain</td>\n",
       "      <td>KCOS</td>\n",
       "      <td>2018-03-26 13:54:00</td>\n",
       "      <td>51.1</td>\n",
       "      <td>NaN</td>\n",
       "      <td>38.0</td>\n",
       "      <td>29.77</td>\n",
       "      <td>10.0</td>\n",
       "      <td>SE</td>\n",
       "      <td>13.8</td>\n",
       "      <td>NaN</td>\n",
       "      <td>Scattered Clouds</td>\n",
       "      <td>False</td>\n",
       "      <td>False</td>\n",
       "      <td>True</td>\n",
       "      <td>False</td>\n",
       "      <td>False</td>\n",
       "      <td>False</td>\n",
       "      <td>False</td>\n",
       "      <td>False</td>\n",
       "      <td>False</td>\n",
       "      <td>False</td>\n",
       "      <td>False</td>\n",
       "      <td>True</td>\n",
       "      <td>False</td>\n",
       "      <td>Day</td>\n",
       "      <td>Day</td>\n",
       "      <td>Day</td>\n",
       "      <td>Day</td>\n",
       "    </tr>\n",
       "  </tbody>\n",
       "</table>\n",
       "<p>2906610 rows × 47 columns</p>\n",
       "</div>"
      ],
      "text/plain": [
       "                ID  Severity  ... Nautical_Twilight Astronomical_Twilight\n",
       "0              A-1         2  ...               Day                   Day\n",
       "1              A-2         2  ...               Day                   Day\n",
       "2              A-3         2  ...             Night                 Night\n",
       "3              A-4         2  ...               Day                   Day\n",
       "4              A-5         3  ...               Day                   Day\n",
       "...            ...       ...  ...               ...                   ...\n",
       "2906605  A-2906606         2  ...               Day                   Day\n",
       "2906606  A-2906607         2  ...             Night                 Night\n",
       "2906607  A-2906608         2  ...               Day                   Day\n",
       "2906608  A-2906609         2  ...             Night                 Night\n",
       "2906609  A-2906610         2  ...               Day                   Day\n",
       "\n",
       "[2906610 rows x 47 columns]"
      ]
     },
     "execution_count": 17,
     "metadata": {
      "tags": []
     },
     "output_type": "execute_result"
    }
   ],
   "source": [
    "df"
   ]
  },
  {
   "cell_type": "code",
   "execution_count": 18,
   "metadata": {
    "colab": {
     "base_uri": "https://localhost:8080/"
    },
    "executionInfo": {
     "elapsed": 309,
     "status": "ok",
     "timestamp": 1623679964399,
     "user": {
      "displayName": "Elif Karaboga",
      "photoUrl": "https://lh3.googleusercontent.com/a-/AOh14Gi3My-ypBw9CYZ21jJZatx__T6CC1RXP3T-MAt70Q=s64",
      "userId": "00247782612075877940"
     },
     "user_tz": -180
    },
    "id": "r0SaoMiPwekQ",
    "outputId": "0517d636-5e5d-48b8-c067-08a840f52cbf"
   },
   "outputs": [
    {
     "data": {
      "text/plain": [
       "Index(['ID', 'Severity', 'Start_Time', 'End_Time', 'Start_Lat', 'Start_Lng',\n",
       "       'End_Lat', 'End_Lng', 'Distance(mi)', 'Description', 'Number', 'Street',\n",
       "       'Side', 'City', 'County', 'State', 'Zipcode', 'Country', 'Timezone',\n",
       "       'Airport_Code', 'Weather_Timestamp', 'Temperature(F)', 'Wind_Chill(F)',\n",
       "       'Humidity(%)', 'Pressure(in)', 'Visibility(mi)', 'Wind_Direction',\n",
       "       'Wind_Speed(mph)', 'Precipitation(in)', 'Weather_Condition', 'Amenity',\n",
       "       'Bump', 'Crossing', 'Give_Way', 'Junction', 'No_Exit', 'Railway',\n",
       "       'Roundabout', 'Station', 'Stop', 'Traffic_Calming', 'Traffic_Signal',\n",
       "       'Turning_Loop', 'Sunrise_Sunset', 'Civil_Twilight', 'Nautical_Twilight',\n",
       "       'Astronomical_Twilight'],\n",
       "      dtype='object')"
      ]
     },
     "execution_count": 18,
     "metadata": {
      "tags": []
     },
     "output_type": "execute_result"
    }
   ],
   "source": [
    "df.columns"
   ]
  },
  {
   "cell_type": "code",
   "execution_count": 20,
   "metadata": {
    "colab": {
     "base_uri": "https://localhost:8080/"
    },
    "executionInfo": {
     "elapsed": 716,
     "status": "ok",
     "timestamp": 1623680015736,
     "user": {
      "displayName": "Elif Karaboga",
      "photoUrl": "https://lh3.googleusercontent.com/a-/AOh14Gi3My-ypBw9CYZ21jJZatx__T6CC1RXP3T-MAt70Q=s64",
      "userId": "00247782612075877940"
     },
     "user_tz": -180
    },
    "id": "3QLCV2cfwe8u",
    "outputId": "86341306-c6a2-4dc2-bc1a-6a05a7bcfd3c"
   },
   "outputs": [
    {
     "data": {
      "text/plain": [
       "47"
      ]
     },
     "execution_count": 20,
     "metadata": {
      "tags": []
     },
     "output_type": "execute_result"
    }
   ],
   "source": [
    "len(df.columns)"
   ]
  },
  {
   "cell_type": "code",
   "execution_count": 21,
   "metadata": {
    "colab": {
     "base_uri": "https://localhost:8080/"
    },
    "executionInfo": {
     "elapsed": 667,
     "status": "ok",
     "timestamp": 1623680050713,
     "user": {
      "displayName": "Elif Karaboga",
      "photoUrl": "https://lh3.googleusercontent.com/a-/AOh14Gi3My-ypBw9CYZ21jJZatx__T6CC1RXP3T-MAt70Q=s64",
      "userId": "00247782612075877940"
     },
     "user_tz": -180
    },
    "id": "LIbVrvF530pZ",
    "outputId": "055678bc-ef9e-4ac7-8061-4acd266be30e"
   },
   "outputs": [
    {
     "data": {
      "text/plain": [
       "<bound method DataFrame.info of                 ID  Severity  ... Nautical_Twilight Astronomical_Twilight\n",
       "0              A-1         2  ...               Day                   Day\n",
       "1              A-2         2  ...               Day                   Day\n",
       "2              A-3         2  ...             Night                 Night\n",
       "3              A-4         2  ...               Day                   Day\n",
       "4              A-5         3  ...               Day                   Day\n",
       "...            ...       ...  ...               ...                   ...\n",
       "2906605  A-2906606         2  ...               Day                   Day\n",
       "2906606  A-2906607         2  ...             Night                 Night\n",
       "2906607  A-2906608         2  ...               Day                   Day\n",
       "2906608  A-2906609         2  ...             Night                 Night\n",
       "2906609  A-2906610         2  ...               Day                   Day\n",
       "\n",
       "[2906610 rows x 47 columns]>"
      ]
     },
     "execution_count": 21,
     "metadata": {
      "tags": []
     },
     "output_type": "execute_result"
    }
   ],
   "source": [
    "df.info"
   ]
  },
  {
   "cell_type": "code",
   "execution_count": 22,
   "metadata": {
    "colab": {
     "base_uri": "https://localhost:8080/"
    },
    "executionInfo": {
     "elapsed": 269,
     "status": "ok",
     "timestamp": 1623680085081,
     "user": {
      "displayName": "Elif Karaboga",
      "photoUrl": "https://lh3.googleusercontent.com/a-/AOh14Gi3My-ypBw9CYZ21jJZatx__T6CC1RXP3T-MAt70Q=s64",
      "userId": "00247782612075877940"
     },
     "user_tz": -180
    },
    "id": "Q34XbgyU38_G",
    "outputId": "d5e97abc-a950-4189-8c1a-d7b24bcb119e"
   },
   "outputs": [
    {
     "name": "stdout",
     "output_type": "stream",
     "text": [
      "<class 'pandas.core.frame.DataFrame'>\n",
      "RangeIndex: 2906610 entries, 0 to 2906609\n",
      "Data columns (total 47 columns):\n",
      " #   Column                 Dtype  \n",
      "---  ------                 -----  \n",
      " 0   ID                     object \n",
      " 1   Severity               int64  \n",
      " 2   Start_Time             object \n",
      " 3   End_Time               object \n",
      " 4   Start_Lat              float64\n",
      " 5   Start_Lng              float64\n",
      " 6   End_Lat                float64\n",
      " 7   End_Lng                float64\n",
      " 8   Distance(mi)           float64\n",
      " 9   Description            object \n",
      " 10  Number                 float64\n",
      " 11  Street                 object \n",
      " 12  Side                   object \n",
      " 13  City                   object \n",
      " 14  County                 object \n",
      " 15  State                  object \n",
      " 16  Zipcode                object \n",
      " 17  Country                object \n",
      " 18  Timezone               object \n",
      " 19  Airport_Code           object \n",
      " 20  Weather_Timestamp      object \n",
      " 21  Temperature(F)         float64\n",
      " 22  Wind_Chill(F)          float64\n",
      " 23  Humidity(%)            float64\n",
      " 24  Pressure(in)           float64\n",
      " 25  Visibility(mi)         float64\n",
      " 26  Wind_Direction         object \n",
      " 27  Wind_Speed(mph)        float64\n",
      " 28  Precipitation(in)      float64\n",
      " 29  Weather_Condition      object \n",
      " 30  Amenity                bool   \n",
      " 31  Bump                   bool   \n",
      " 32  Crossing               bool   \n",
      " 33  Give_Way               bool   \n",
      " 34  Junction               bool   \n",
      " 35  No_Exit                bool   \n",
      " 36  Railway                bool   \n",
      " 37  Roundabout             bool   \n",
      " 38  Station                bool   \n",
      " 39  Stop                   bool   \n",
      " 40  Traffic_Calming        bool   \n",
      " 41  Traffic_Signal         bool   \n",
      " 42  Turning_Loop           bool   \n",
      " 43  Sunrise_Sunset         object \n",
      " 44  Civil_Twilight         object \n",
      " 45  Nautical_Twilight      object \n",
      " 46  Astronomical_Twilight  object \n",
      "dtypes: bool(13), float64(13), int64(1), object(20)\n",
      "memory usage: 790.0+ MB\n"
     ]
    }
   ],
   "source": [
    "df.info()"
   ]
  },
  {
   "cell_type": "code",
   "execution_count": 23,
   "metadata": {
    "colab": {
     "base_uri": "https://localhost:8080/",
     "height": 317
    },
    "executionInfo": {
     "elapsed": 2259,
     "status": "ok",
     "timestamp": 1623680246465,
     "user": {
      "displayName": "Elif Karaboga",
      "photoUrl": "https://lh3.googleusercontent.com/a-/AOh14Gi3My-ypBw9CYZ21jJZatx__T6CC1RXP3T-MAt70Q=s64",
      "userId": "00247782612075877940"
     },
     "user_tz": -180
    },
    "id": "5gkf2P5L4ShM",
    "outputId": "a88bed27-0845-451d-b26e-c90e0033180c"
   },
   "outputs": [
    {
     "data": {
      "text/html": [
       "<div>\n",
       "<style scoped>\n",
       "    .dataframe tbody tr th:only-of-type {\n",
       "        vertical-align: middle;\n",
       "    }\n",
       "\n",
       "    .dataframe tbody tr th {\n",
       "        vertical-align: top;\n",
       "    }\n",
       "\n",
       "    .dataframe thead th {\n",
       "        text-align: right;\n",
       "    }\n",
       "</style>\n",
       "<table border=\"1\" class=\"dataframe\">\n",
       "  <thead>\n",
       "    <tr style=\"text-align: right;\">\n",
       "      <th></th>\n",
       "      <th>Severity</th>\n",
       "      <th>Start_Lat</th>\n",
       "      <th>Start_Lng</th>\n",
       "      <th>End_Lat</th>\n",
       "      <th>End_Lng</th>\n",
       "      <th>Distance(mi)</th>\n",
       "      <th>Number</th>\n",
       "      <th>Temperature(F)</th>\n",
       "      <th>Wind_Chill(F)</th>\n",
       "      <th>Humidity(%)</th>\n",
       "      <th>Pressure(in)</th>\n",
       "      <th>Visibility(mi)</th>\n",
       "      <th>Wind_Speed(mph)</th>\n",
       "      <th>Precipitation(in)</th>\n",
       "    </tr>\n",
       "  </thead>\n",
       "  <tbody>\n",
       "    <tr>\n",
       "      <th>count</th>\n",
       "      <td>2.906610e+06</td>\n",
       "      <td>2.906610e+06</td>\n",
       "      <td>2.906610e+06</td>\n",
       "      <td>2.623789e+06</td>\n",
       "      <td>2.623789e+06</td>\n",
       "      <td>2.906610e+06</td>\n",
       "      <td>1.014938e+06</td>\n",
       "      <td>2.839386e+06</td>\n",
       "      <td>1.722751e+06</td>\n",
       "      <td>2.835340e+06</td>\n",
       "      <td>2.849702e+06</td>\n",
       "      <td>2.834532e+06</td>\n",
       "      <td>2.599447e+06</td>\n",
       "      <td>1.605284e+06</td>\n",
       "    </tr>\n",
       "    <tr>\n",
       "      <th>mean</th>\n",
       "      <td>2.288649e+00</td>\n",
       "      <td>3.653027e+01</td>\n",
       "      <td>-9.642676e+01</td>\n",
       "      <td>3.651733e+01</td>\n",
       "      <td>-9.620367e+01</td>\n",
       "      <td>3.980541e-01</td>\n",
       "      <td>6.789728e+03</td>\n",
       "      <td>6.098873e+01</td>\n",
       "      <td>5.499048e+01</td>\n",
       "      <td>6.537758e+01</td>\n",
       "      <td>2.965685e+01</td>\n",
       "      <td>9.116766e+00</td>\n",
       "      <td>7.818111e+00</td>\n",
       "      <td>1.119459e-02</td>\n",
       "    </tr>\n",
       "    <tr>\n",
       "      <th>std</th>\n",
       "      <td>5.541618e-01</td>\n",
       "      <td>5.013964e+00</td>\n",
       "      <td>1.775412e+01</td>\n",
       "      <td>5.016609e+00</td>\n",
       "      <td>1.765971e+01</td>\n",
       "      <td>1.592556e+00</td>\n",
       "      <td>1.697225e+04</td>\n",
       "      <td>1.845258e+01</td>\n",
       "      <td>2.219542e+01</td>\n",
       "      <td>2.287854e+01</td>\n",
       "      <td>9.094133e-01</td>\n",
       "      <td>2.837271e+00</td>\n",
       "      <td>5.431171e+00</td>\n",
       "      <td>1.540812e-01</td>\n",
       "    </tr>\n",
       "    <tr>\n",
       "      <th>min</th>\n",
       "      <td>1.000000e+00</td>\n",
       "      <td>2.455527e+01</td>\n",
       "      <td>-1.246238e+02</td>\n",
       "      <td>2.455527e+01</td>\n",
       "      <td>-1.246238e+02</td>\n",
       "      <td>0.000000e+00</td>\n",
       "      <td>0.000000e+00</td>\n",
       "      <td>-8.900000e+01</td>\n",
       "      <td>-8.900000e+01</td>\n",
       "      <td>1.000000e+00</td>\n",
       "      <td>0.000000e+00</td>\n",
       "      <td>0.000000e+00</td>\n",
       "      <td>0.000000e+00</td>\n",
       "      <td>0.000000e+00</td>\n",
       "    </tr>\n",
       "    <tr>\n",
       "      <th>25%</th>\n",
       "      <td>2.000000e+00</td>\n",
       "      <td>3.366453e+01</td>\n",
       "      <td>-1.178232e+02</td>\n",
       "      <td>3.364659e+01</td>\n",
       "      <td>-1.177020e+02</td>\n",
       "      <td>0.000000e+00</td>\n",
       "      <td>9.650000e+02</td>\n",
       "      <td>4.890000e+01</td>\n",
       "      <td>3.900000e+01</td>\n",
       "      <td>4.900000e+01</td>\n",
       "      <td>2.959000e+01</td>\n",
       "      <td>1.000000e+01</td>\n",
       "      <td>4.600000e+00</td>\n",
       "      <td>0.000000e+00</td>\n",
       "    </tr>\n",
       "    <tr>\n",
       "      <th>50%</th>\n",
       "      <td>2.000000e+00</td>\n",
       "      <td>3.609977e+01</td>\n",
       "      <td>-9.116690e+01</td>\n",
       "      <td>3.605898e+01</td>\n",
       "      <td>-9.105163e+01</td>\n",
       "      <td>0.000000e+00</td>\n",
       "      <td>3.093000e+03</td>\n",
       "      <td>6.300000e+01</td>\n",
       "      <td>5.800000e+01</td>\n",
       "      <td>6.800000e+01</td>\n",
       "      <td>2.992000e+01</td>\n",
       "      <td>1.000000e+01</td>\n",
       "      <td>7.000000e+00</td>\n",
       "      <td>0.000000e+00</td>\n",
       "    </tr>\n",
       "    <tr>\n",
       "      <th>75%</th>\n",
       "      <td>3.000000e+00</td>\n",
       "      <td>4.037505e+01</td>\n",
       "      <td>-8.085814e+01</td>\n",
       "      <td>4.033133e+01</td>\n",
       "      <td>-8.084679e+01</td>\n",
       "      <td>2.790000e-01</td>\n",
       "      <td>7.976000e+03</td>\n",
       "      <td>7.500000e+01</td>\n",
       "      <td>7.200000e+01</td>\n",
       "      <td>8.500000e+01</td>\n",
       "      <td>3.007000e+01</td>\n",
       "      <td>1.000000e+01</td>\n",
       "      <td>1.040000e+01</td>\n",
       "      <td>0.000000e+00</td>\n",
       "    </tr>\n",
       "    <tr>\n",
       "      <th>max</th>\n",
       "      <td>4.000000e+00</td>\n",
       "      <td>4.900220e+01</td>\n",
       "      <td>-6.711317e+01</td>\n",
       "      <td>4.907500e+01</td>\n",
       "      <td>-6.710924e+01</td>\n",
       "      <td>3.336300e+02</td>\n",
       "      <td>9.999997e+06</td>\n",
       "      <td>2.030000e+02</td>\n",
       "      <td>1.740000e+02</td>\n",
       "      <td>1.000000e+02</td>\n",
       "      <td>5.804000e+01</td>\n",
       "      <td>1.400000e+02</td>\n",
       "      <td>9.840000e+02</td>\n",
       "      <td>2.400000e+01</td>\n",
       "    </tr>\n",
       "  </tbody>\n",
       "</table>\n",
       "</div>"
      ],
      "text/plain": [
       "           Severity     Start_Lat  ...  Wind_Speed(mph)  Precipitation(in)\n",
       "count  2.906610e+06  2.906610e+06  ...     2.599447e+06       1.605284e+06\n",
       "mean   2.288649e+00  3.653027e+01  ...     7.818111e+00       1.119459e-02\n",
       "std    5.541618e-01  5.013964e+00  ...     5.431171e+00       1.540812e-01\n",
       "min    1.000000e+00  2.455527e+01  ...     0.000000e+00       0.000000e+00\n",
       "25%    2.000000e+00  3.366453e+01  ...     4.600000e+00       0.000000e+00\n",
       "50%    2.000000e+00  3.609977e+01  ...     7.000000e+00       0.000000e+00\n",
       "75%    3.000000e+00  4.037505e+01  ...     1.040000e+01       0.000000e+00\n",
       "max    4.000000e+00  4.900220e+01  ...     9.840000e+02       2.400000e+01\n",
       "\n",
       "[8 rows x 14 columns]"
      ]
     },
     "execution_count": 23,
     "metadata": {
      "tags": []
     },
     "output_type": "execute_result"
    }
   ],
   "source": [
    "df.describe()"
   ]
  },
  {
   "cell_type": "code",
   "execution_count": 27,
   "metadata": {
    "colab": {
     "base_uri": "https://localhost:8080/"
    },
    "executionInfo": {
     "elapsed": 315,
     "status": "ok",
     "timestamp": 1623680978011,
     "user": {
      "displayName": "Elif Karaboga",
      "photoUrl": "https://lh3.googleusercontent.com/a-/AOh14Gi3My-ypBw9CYZ21jJZatx__T6CC1RXP3T-MAt70Q=s64",
      "userId": "00247782612075877940"
     },
     "user_tz": -180
    },
    "id": "UiliPVUz6wQt",
    "outputId": "d7300929-de35-416e-baf5-e0b6e6a36ef7"
   },
   "outputs": [
    {
     "data": {
      "text/plain": [
       "14"
      ]
     },
     "execution_count": 27,
     "metadata": {
      "tags": []
     },
     "output_type": "execute_result"
    }
   ],
   "source": [
    "numerics = ['int16', 'int32', 'int64', 'float16', 'float32', 'float64']\n",
    "numeric_df = df.select_dtypes(include=numerics)\n",
    "len(numeric_df.columns)"
   ]
  },
  {
   "cell_type": "markdown",
   "metadata": {
    "id": "umO0bEDB8XzX"
   },
   "source": [
    "Percentage of missing values per column"
   ]
  },
  {
   "cell_type": "code",
   "execution_count": 28,
   "metadata": {
    "colab": {
     "base_uri": "https://localhost:8080/",
     "height": 439
    },
    "executionInfo": {
     "elapsed": 2519,
     "status": "ok",
     "timestamp": 1623681129003,
     "user": {
      "displayName": "Elif Karaboga",
      "photoUrl": "https://lh3.googleusercontent.com/a-/AOh14Gi3My-ypBw9CYZ21jJZatx__T6CC1RXP3T-MAt70Q=s64",
      "userId": "00247782612075877940"
     },
     "user_tz": -180
    },
    "id": "xlgJ7tRk7huV",
    "outputId": "04786726-91cb-4c17-fe46-e865db8a7ae0"
   },
   "outputs": [
    {
     "data": {
      "text/html": [
       "<div>\n",
       "<style scoped>\n",
       "    .dataframe tbody tr th:only-of-type {\n",
       "        vertical-align: middle;\n",
       "    }\n",
       "\n",
       "    .dataframe tbody tr th {\n",
       "        vertical-align: top;\n",
       "    }\n",
       "\n",
       "    .dataframe thead th {\n",
       "        text-align: right;\n",
       "    }\n",
       "</style>\n",
       "<table border=\"1\" class=\"dataframe\">\n",
       "  <thead>\n",
       "    <tr style=\"text-align: right;\">\n",
       "      <th></th>\n",
       "      <th>ID</th>\n",
       "      <th>Severity</th>\n",
       "      <th>Start_Time</th>\n",
       "      <th>End_Time</th>\n",
       "      <th>Start_Lat</th>\n",
       "      <th>Start_Lng</th>\n",
       "      <th>End_Lat</th>\n",
       "      <th>End_Lng</th>\n",
       "      <th>Distance(mi)</th>\n",
       "      <th>Description</th>\n",
       "      <th>Number</th>\n",
       "      <th>Street</th>\n",
       "      <th>Side</th>\n",
       "      <th>City</th>\n",
       "      <th>County</th>\n",
       "      <th>State</th>\n",
       "      <th>Zipcode</th>\n",
       "      <th>Country</th>\n",
       "      <th>Timezone</th>\n",
       "      <th>Airport_Code</th>\n",
       "      <th>Weather_Timestamp</th>\n",
       "      <th>Temperature(F)</th>\n",
       "      <th>Wind_Chill(F)</th>\n",
       "      <th>Humidity(%)</th>\n",
       "      <th>Pressure(in)</th>\n",
       "      <th>Visibility(mi)</th>\n",
       "      <th>Wind_Direction</th>\n",
       "      <th>Wind_Speed(mph)</th>\n",
       "      <th>Precipitation(in)</th>\n",
       "      <th>Weather_Condition</th>\n",
       "      <th>Amenity</th>\n",
       "      <th>Bump</th>\n",
       "      <th>Crossing</th>\n",
       "      <th>Give_Way</th>\n",
       "      <th>Junction</th>\n",
       "      <th>No_Exit</th>\n",
       "      <th>Railway</th>\n",
       "      <th>Roundabout</th>\n",
       "      <th>Station</th>\n",
       "      <th>Stop</th>\n",
       "      <th>Traffic_Calming</th>\n",
       "      <th>Traffic_Signal</th>\n",
       "      <th>Turning_Loop</th>\n",
       "      <th>Sunrise_Sunset</th>\n",
       "      <th>Civil_Twilight</th>\n",
       "      <th>Nautical_Twilight</th>\n",
       "      <th>Astronomical_Twilight</th>\n",
       "    </tr>\n",
       "  </thead>\n",
       "  <tbody>\n",
       "    <tr>\n",
       "      <th>0</th>\n",
       "      <td>False</td>\n",
       "      <td>False</td>\n",
       "      <td>False</td>\n",
       "      <td>False</td>\n",
       "      <td>False</td>\n",
       "      <td>False</td>\n",
       "      <td>False</td>\n",
       "      <td>False</td>\n",
       "      <td>False</td>\n",
       "      <td>False</td>\n",
       "      <td>False</td>\n",
       "      <td>False</td>\n",
       "      <td>False</td>\n",
       "      <td>False</td>\n",
       "      <td>False</td>\n",
       "      <td>False</td>\n",
       "      <td>False</td>\n",
       "      <td>False</td>\n",
       "      <td>False</td>\n",
       "      <td>False</td>\n",
       "      <td>False</td>\n",
       "      <td>False</td>\n",
       "      <td>False</td>\n",
       "      <td>False</td>\n",
       "      <td>False</td>\n",
       "      <td>False</td>\n",
       "      <td>False</td>\n",
       "      <td>False</td>\n",
       "      <td>False</td>\n",
       "      <td>False</td>\n",
       "      <td>False</td>\n",
       "      <td>False</td>\n",
       "      <td>False</td>\n",
       "      <td>False</td>\n",
       "      <td>False</td>\n",
       "      <td>False</td>\n",
       "      <td>False</td>\n",
       "      <td>False</td>\n",
       "      <td>False</td>\n",
       "      <td>False</td>\n",
       "      <td>False</td>\n",
       "      <td>False</td>\n",
       "      <td>False</td>\n",
       "      <td>False</td>\n",
       "      <td>False</td>\n",
       "      <td>False</td>\n",
       "      <td>False</td>\n",
       "    </tr>\n",
       "    <tr>\n",
       "      <th>1</th>\n",
       "      <td>False</td>\n",
       "      <td>False</td>\n",
       "      <td>False</td>\n",
       "      <td>False</td>\n",
       "      <td>False</td>\n",
       "      <td>False</td>\n",
       "      <td>False</td>\n",
       "      <td>False</td>\n",
       "      <td>False</td>\n",
       "      <td>False</td>\n",
       "      <td>False</td>\n",
       "      <td>False</td>\n",
       "      <td>False</td>\n",
       "      <td>False</td>\n",
       "      <td>False</td>\n",
       "      <td>False</td>\n",
       "      <td>False</td>\n",
       "      <td>False</td>\n",
       "      <td>False</td>\n",
       "      <td>False</td>\n",
       "      <td>False</td>\n",
       "      <td>False</td>\n",
       "      <td>False</td>\n",
       "      <td>False</td>\n",
       "      <td>False</td>\n",
       "      <td>False</td>\n",
       "      <td>False</td>\n",
       "      <td>False</td>\n",
       "      <td>False</td>\n",
       "      <td>False</td>\n",
       "      <td>False</td>\n",
       "      <td>False</td>\n",
       "      <td>False</td>\n",
       "      <td>False</td>\n",
       "      <td>False</td>\n",
       "      <td>False</td>\n",
       "      <td>False</td>\n",
       "      <td>False</td>\n",
       "      <td>False</td>\n",
       "      <td>False</td>\n",
       "      <td>False</td>\n",
       "      <td>False</td>\n",
       "      <td>False</td>\n",
       "      <td>False</td>\n",
       "      <td>False</td>\n",
       "      <td>False</td>\n",
       "      <td>False</td>\n",
       "    </tr>\n",
       "    <tr>\n",
       "      <th>2</th>\n",
       "      <td>False</td>\n",
       "      <td>False</td>\n",
       "      <td>False</td>\n",
       "      <td>False</td>\n",
       "      <td>False</td>\n",
       "      <td>False</td>\n",
       "      <td>False</td>\n",
       "      <td>False</td>\n",
       "      <td>False</td>\n",
       "      <td>False</td>\n",
       "      <td>True</td>\n",
       "      <td>False</td>\n",
       "      <td>False</td>\n",
       "      <td>False</td>\n",
       "      <td>False</td>\n",
       "      <td>False</td>\n",
       "      <td>False</td>\n",
       "      <td>False</td>\n",
       "      <td>False</td>\n",
       "      <td>False</td>\n",
       "      <td>False</td>\n",
       "      <td>False</td>\n",
       "      <td>False</td>\n",
       "      <td>False</td>\n",
       "      <td>False</td>\n",
       "      <td>False</td>\n",
       "      <td>False</td>\n",
       "      <td>False</td>\n",
       "      <td>False</td>\n",
       "      <td>False</td>\n",
       "      <td>False</td>\n",
       "      <td>False</td>\n",
       "      <td>False</td>\n",
       "      <td>False</td>\n",
       "      <td>False</td>\n",
       "      <td>False</td>\n",
       "      <td>False</td>\n",
       "      <td>False</td>\n",
       "      <td>False</td>\n",
       "      <td>False</td>\n",
       "      <td>False</td>\n",
       "      <td>False</td>\n",
       "      <td>False</td>\n",
       "      <td>False</td>\n",
       "      <td>False</td>\n",
       "      <td>False</td>\n",
       "      <td>False</td>\n",
       "    </tr>\n",
       "    <tr>\n",
       "      <th>3</th>\n",
       "      <td>False</td>\n",
       "      <td>False</td>\n",
       "      <td>False</td>\n",
       "      <td>False</td>\n",
       "      <td>False</td>\n",
       "      <td>False</td>\n",
       "      <td>False</td>\n",
       "      <td>False</td>\n",
       "      <td>False</td>\n",
       "      <td>False</td>\n",
       "      <td>True</td>\n",
       "      <td>False</td>\n",
       "      <td>False</td>\n",
       "      <td>False</td>\n",
       "      <td>False</td>\n",
       "      <td>False</td>\n",
       "      <td>False</td>\n",
       "      <td>False</td>\n",
       "      <td>False</td>\n",
       "      <td>False</td>\n",
       "      <td>False</td>\n",
       "      <td>False</td>\n",
       "      <td>True</td>\n",
       "      <td>False</td>\n",
       "      <td>False</td>\n",
       "      <td>False</td>\n",
       "      <td>False</td>\n",
       "      <td>False</td>\n",
       "      <td>True</td>\n",
       "      <td>False</td>\n",
       "      <td>False</td>\n",
       "      <td>False</td>\n",
       "      <td>False</td>\n",
       "      <td>False</td>\n",
       "      <td>False</td>\n",
       "      <td>False</td>\n",
       "      <td>False</td>\n",
       "      <td>False</td>\n",
       "      <td>False</td>\n",
       "      <td>False</td>\n",
       "      <td>False</td>\n",
       "      <td>False</td>\n",
       "      <td>False</td>\n",
       "      <td>False</td>\n",
       "      <td>False</td>\n",
       "      <td>False</td>\n",
       "      <td>False</td>\n",
       "    </tr>\n",
       "    <tr>\n",
       "      <th>4</th>\n",
       "      <td>False</td>\n",
       "      <td>False</td>\n",
       "      <td>False</td>\n",
       "      <td>False</td>\n",
       "      <td>False</td>\n",
       "      <td>False</td>\n",
       "      <td>False</td>\n",
       "      <td>False</td>\n",
       "      <td>False</td>\n",
       "      <td>False</td>\n",
       "      <td>True</td>\n",
       "      <td>False</td>\n",
       "      <td>False</td>\n",
       "      <td>False</td>\n",
       "      <td>False</td>\n",
       "      <td>False</td>\n",
       "      <td>False</td>\n",
       "      <td>False</td>\n",
       "      <td>False</td>\n",
       "      <td>False</td>\n",
       "      <td>False</td>\n",
       "      <td>False</td>\n",
       "      <td>True</td>\n",
       "      <td>False</td>\n",
       "      <td>False</td>\n",
       "      <td>False</td>\n",
       "      <td>False</td>\n",
       "      <td>False</td>\n",
       "      <td>True</td>\n",
       "      <td>False</td>\n",
       "      <td>False</td>\n",
       "      <td>False</td>\n",
       "      <td>False</td>\n",
       "      <td>False</td>\n",
       "      <td>False</td>\n",
       "      <td>False</td>\n",
       "      <td>False</td>\n",
       "      <td>False</td>\n",
       "      <td>False</td>\n",
       "      <td>False</td>\n",
       "      <td>False</td>\n",
       "      <td>False</td>\n",
       "      <td>False</td>\n",
       "      <td>False</td>\n",
       "      <td>False</td>\n",
       "      <td>False</td>\n",
       "      <td>False</td>\n",
       "    </tr>\n",
       "    <tr>\n",
       "      <th>...</th>\n",
       "      <td>...</td>\n",
       "      <td>...</td>\n",
       "      <td>...</td>\n",
       "      <td>...</td>\n",
       "      <td>...</td>\n",
       "      <td>...</td>\n",
       "      <td>...</td>\n",
       "      <td>...</td>\n",
       "      <td>...</td>\n",
       "      <td>...</td>\n",
       "      <td>...</td>\n",
       "      <td>...</td>\n",
       "      <td>...</td>\n",
       "      <td>...</td>\n",
       "      <td>...</td>\n",
       "      <td>...</td>\n",
       "      <td>...</td>\n",
       "      <td>...</td>\n",
       "      <td>...</td>\n",
       "      <td>...</td>\n",
       "      <td>...</td>\n",
       "      <td>...</td>\n",
       "      <td>...</td>\n",
       "      <td>...</td>\n",
       "      <td>...</td>\n",
       "      <td>...</td>\n",
       "      <td>...</td>\n",
       "      <td>...</td>\n",
       "      <td>...</td>\n",
       "      <td>...</td>\n",
       "      <td>...</td>\n",
       "      <td>...</td>\n",
       "      <td>...</td>\n",
       "      <td>...</td>\n",
       "      <td>...</td>\n",
       "      <td>...</td>\n",
       "      <td>...</td>\n",
       "      <td>...</td>\n",
       "      <td>...</td>\n",
       "      <td>...</td>\n",
       "      <td>...</td>\n",
       "      <td>...</td>\n",
       "      <td>...</td>\n",
       "      <td>...</td>\n",
       "      <td>...</td>\n",
       "      <td>...</td>\n",
       "      <td>...</td>\n",
       "    </tr>\n",
       "    <tr>\n",
       "      <th>2906605</th>\n",
       "      <td>False</td>\n",
       "      <td>False</td>\n",
       "      <td>False</td>\n",
       "      <td>False</td>\n",
       "      <td>False</td>\n",
       "      <td>False</td>\n",
       "      <td>False</td>\n",
       "      <td>False</td>\n",
       "      <td>False</td>\n",
       "      <td>False</td>\n",
       "      <td>False</td>\n",
       "      <td>False</td>\n",
       "      <td>False</td>\n",
       "      <td>False</td>\n",
       "      <td>False</td>\n",
       "      <td>False</td>\n",
       "      <td>False</td>\n",
       "      <td>False</td>\n",
       "      <td>False</td>\n",
       "      <td>False</td>\n",
       "      <td>False</td>\n",
       "      <td>False</td>\n",
       "      <td>True</td>\n",
       "      <td>False</td>\n",
       "      <td>False</td>\n",
       "      <td>False</td>\n",
       "      <td>False</td>\n",
       "      <td>False</td>\n",
       "      <td>True</td>\n",
       "      <td>False</td>\n",
       "      <td>False</td>\n",
       "      <td>False</td>\n",
       "      <td>False</td>\n",
       "      <td>False</td>\n",
       "      <td>False</td>\n",
       "      <td>False</td>\n",
       "      <td>False</td>\n",
       "      <td>False</td>\n",
       "      <td>False</td>\n",
       "      <td>False</td>\n",
       "      <td>False</td>\n",
       "      <td>False</td>\n",
       "      <td>False</td>\n",
       "      <td>False</td>\n",
       "      <td>False</td>\n",
       "      <td>False</td>\n",
       "      <td>False</td>\n",
       "    </tr>\n",
       "    <tr>\n",
       "      <th>2906606</th>\n",
       "      <td>False</td>\n",
       "      <td>False</td>\n",
       "      <td>False</td>\n",
       "      <td>False</td>\n",
       "      <td>False</td>\n",
       "      <td>False</td>\n",
       "      <td>False</td>\n",
       "      <td>False</td>\n",
       "      <td>False</td>\n",
       "      <td>False</td>\n",
       "      <td>True</td>\n",
       "      <td>False</td>\n",
       "      <td>False</td>\n",
       "      <td>False</td>\n",
       "      <td>False</td>\n",
       "      <td>False</td>\n",
       "      <td>False</td>\n",
       "      <td>False</td>\n",
       "      <td>False</td>\n",
       "      <td>False</td>\n",
       "      <td>False</td>\n",
       "      <td>False</td>\n",
       "      <td>True</td>\n",
       "      <td>False</td>\n",
       "      <td>False</td>\n",
       "      <td>False</td>\n",
       "      <td>False</td>\n",
       "      <td>True</td>\n",
       "      <td>True</td>\n",
       "      <td>False</td>\n",
       "      <td>False</td>\n",
       "      <td>False</td>\n",
       "      <td>False</td>\n",
       "      <td>False</td>\n",
       "      <td>False</td>\n",
       "      <td>False</td>\n",
       "      <td>False</td>\n",
       "      <td>False</td>\n",
       "      <td>False</td>\n",
       "      <td>False</td>\n",
       "      <td>False</td>\n",
       "      <td>False</td>\n",
       "      <td>False</td>\n",
       "      <td>False</td>\n",
       "      <td>False</td>\n",
       "      <td>False</td>\n",
       "      <td>False</td>\n",
       "    </tr>\n",
       "    <tr>\n",
       "      <th>2906607</th>\n",
       "      <td>False</td>\n",
       "      <td>False</td>\n",
       "      <td>False</td>\n",
       "      <td>False</td>\n",
       "      <td>False</td>\n",
       "      <td>False</td>\n",
       "      <td>False</td>\n",
       "      <td>False</td>\n",
       "      <td>False</td>\n",
       "      <td>False</td>\n",
       "      <td>False</td>\n",
       "      <td>False</td>\n",
       "      <td>False</td>\n",
       "      <td>False</td>\n",
       "      <td>False</td>\n",
       "      <td>False</td>\n",
       "      <td>False</td>\n",
       "      <td>False</td>\n",
       "      <td>False</td>\n",
       "      <td>False</td>\n",
       "      <td>False</td>\n",
       "      <td>False</td>\n",
       "      <td>False</td>\n",
       "      <td>False</td>\n",
       "      <td>False</td>\n",
       "      <td>False</td>\n",
       "      <td>False</td>\n",
       "      <td>False</td>\n",
       "      <td>False</td>\n",
       "      <td>False</td>\n",
       "      <td>False</td>\n",
       "      <td>False</td>\n",
       "      <td>False</td>\n",
       "      <td>False</td>\n",
       "      <td>False</td>\n",
       "      <td>False</td>\n",
       "      <td>False</td>\n",
       "      <td>False</td>\n",
       "      <td>False</td>\n",
       "      <td>False</td>\n",
       "      <td>False</td>\n",
       "      <td>False</td>\n",
       "      <td>False</td>\n",
       "      <td>False</td>\n",
       "      <td>False</td>\n",
       "      <td>False</td>\n",
       "      <td>False</td>\n",
       "    </tr>\n",
       "    <tr>\n",
       "      <th>2906608</th>\n",
       "      <td>False</td>\n",
       "      <td>False</td>\n",
       "      <td>False</td>\n",
       "      <td>False</td>\n",
       "      <td>False</td>\n",
       "      <td>False</td>\n",
       "      <td>False</td>\n",
       "      <td>False</td>\n",
       "      <td>False</td>\n",
       "      <td>False</td>\n",
       "      <td>True</td>\n",
       "      <td>False</td>\n",
       "      <td>False</td>\n",
       "      <td>False</td>\n",
       "      <td>False</td>\n",
       "      <td>False</td>\n",
       "      <td>False</td>\n",
       "      <td>False</td>\n",
       "      <td>False</td>\n",
       "      <td>False</td>\n",
       "      <td>False</td>\n",
       "      <td>False</td>\n",
       "      <td>False</td>\n",
       "      <td>False</td>\n",
       "      <td>False</td>\n",
       "      <td>False</td>\n",
       "      <td>False</td>\n",
       "      <td>False</td>\n",
       "      <td>False</td>\n",
       "      <td>False</td>\n",
       "      <td>False</td>\n",
       "      <td>False</td>\n",
       "      <td>False</td>\n",
       "      <td>False</td>\n",
       "      <td>False</td>\n",
       "      <td>False</td>\n",
       "      <td>False</td>\n",
       "      <td>False</td>\n",
       "      <td>False</td>\n",
       "      <td>False</td>\n",
       "      <td>False</td>\n",
       "      <td>False</td>\n",
       "      <td>False</td>\n",
       "      <td>False</td>\n",
       "      <td>False</td>\n",
       "      <td>False</td>\n",
       "      <td>False</td>\n",
       "    </tr>\n",
       "    <tr>\n",
       "      <th>2906609</th>\n",
       "      <td>False</td>\n",
       "      <td>False</td>\n",
       "      <td>False</td>\n",
       "      <td>False</td>\n",
       "      <td>False</td>\n",
       "      <td>False</td>\n",
       "      <td>False</td>\n",
       "      <td>False</td>\n",
       "      <td>False</td>\n",
       "      <td>False</td>\n",
       "      <td>True</td>\n",
       "      <td>False</td>\n",
       "      <td>False</td>\n",
       "      <td>False</td>\n",
       "      <td>False</td>\n",
       "      <td>False</td>\n",
       "      <td>False</td>\n",
       "      <td>False</td>\n",
       "      <td>False</td>\n",
       "      <td>False</td>\n",
       "      <td>False</td>\n",
       "      <td>False</td>\n",
       "      <td>True</td>\n",
       "      <td>False</td>\n",
       "      <td>False</td>\n",
       "      <td>False</td>\n",
       "      <td>False</td>\n",
       "      <td>False</td>\n",
       "      <td>True</td>\n",
       "      <td>False</td>\n",
       "      <td>False</td>\n",
       "      <td>False</td>\n",
       "      <td>False</td>\n",
       "      <td>False</td>\n",
       "      <td>False</td>\n",
       "      <td>False</td>\n",
       "      <td>False</td>\n",
       "      <td>False</td>\n",
       "      <td>False</td>\n",
       "      <td>False</td>\n",
       "      <td>False</td>\n",
       "      <td>False</td>\n",
       "      <td>False</td>\n",
       "      <td>False</td>\n",
       "      <td>False</td>\n",
       "      <td>False</td>\n",
       "      <td>False</td>\n",
       "    </tr>\n",
       "  </tbody>\n",
       "</table>\n",
       "<p>2906610 rows × 47 columns</p>\n",
       "</div>"
      ],
      "text/plain": [
       "            ID  Severity  ...  Nautical_Twilight  Astronomical_Twilight\n",
       "0        False     False  ...              False                  False\n",
       "1        False     False  ...              False                  False\n",
       "2        False     False  ...              False                  False\n",
       "3        False     False  ...              False                  False\n",
       "4        False     False  ...              False                  False\n",
       "...        ...       ...  ...                ...                    ...\n",
       "2906605  False     False  ...              False                  False\n",
       "2906606  False     False  ...              False                  False\n",
       "2906607  False     False  ...              False                  False\n",
       "2906608  False     False  ...              False                  False\n",
       "2906609  False     False  ...              False                  False\n",
       "\n",
       "[2906610 rows x 47 columns]"
      ]
     },
     "execution_count": 28,
     "metadata": {
      "tags": []
     },
     "output_type": "execute_result"
    }
   ],
   "source": [
    "df.isna()"
   ]
  },
  {
   "cell_type": "code",
   "execution_count": 29,
   "metadata": {
    "colab": {
     "base_uri": "https://localhost:8080/"
    },
    "executionInfo": {
     "elapsed": 2589,
     "status": "ok",
     "timestamp": 1623681184148,
     "user": {
      "displayName": "Elif Karaboga",
      "photoUrl": "https://lh3.googleusercontent.com/a-/AOh14Gi3My-ypBw9CYZ21jJZatx__T6CC1RXP3T-MAt70Q=s64",
      "userId": "00247782612075877940"
     },
     "user_tz": -180
    },
    "id": "cEghuKBe8H0q",
    "outputId": "f6d4c21c-fd5d-4709-dd6d-e8360d4adf88"
   },
   "outputs": [
    {
     "data": {
      "text/plain": [
       "ID                             0\n",
       "Severity                       0\n",
       "Start_Time                     0\n",
       "End_Time                       0\n",
       "Start_Lat                      0\n",
       "Start_Lng                      0\n",
       "End_Lat                   282821\n",
       "End_Lng                   282821\n",
       "Distance(mi)                   0\n",
       "Description                    0\n",
       "Number                   1891672\n",
       "Street                         0\n",
       "Side                           0\n",
       "City                         108\n",
       "County                         0\n",
       "State                          0\n",
       "Zipcode                     1114\n",
       "Country                        0\n",
       "Timezone                    3430\n",
       "Airport_Code                6608\n",
       "Weather_Timestamp          46917\n",
       "Temperature(F)             67224\n",
       "Wind_Chill(F)            1183859\n",
       "Humidity(%)                71270\n",
       "Pressure(in)               56908\n",
       "Visibility(mi)             72078\n",
       "Wind_Direction             63474\n",
       "Wind_Speed(mph)           307163\n",
       "Precipitation(in)        1301326\n",
       "Weather_Condition          71851\n",
       "Amenity                        0\n",
       "Bump                           0\n",
       "Crossing                       0\n",
       "Give_Way                       0\n",
       "Junction                       0\n",
       "No_Exit                        0\n",
       "Railway                        0\n",
       "Roundabout                     0\n",
       "Station                        0\n",
       "Stop                           0\n",
       "Traffic_Calming                0\n",
       "Traffic_Signal                 0\n",
       "Turning_Loop                   0\n",
       "Sunrise_Sunset               110\n",
       "Civil_Twilight               110\n",
       "Nautical_Twilight            110\n",
       "Astronomical_Twilight        110\n",
       "dtype: int64"
      ]
     },
     "execution_count": 29,
     "metadata": {
      "tags": []
     },
     "output_type": "execute_result"
    }
   ],
   "source": [
    "df.isna().sum()"
   ]
  },
  {
   "cell_type": "code",
   "execution_count": 33,
   "metadata": {
    "colab": {
     "base_uri": "https://localhost:8080/"
    },
    "executionInfo": {
     "elapsed": 2454,
     "status": "ok",
     "timestamp": 1623681479796,
     "user": {
      "displayName": "Elif Karaboga",
      "photoUrl": "https://lh3.googleusercontent.com/a-/AOh14Gi3My-ypBw9CYZ21jJZatx__T6CC1RXP3T-MAt70Q=s64",
      "userId": "00247782612075877940"
     },
     "user_tz": -180
    },
    "id": "KZvOs3338mvN",
    "outputId": "78691e5a-9db6-4846-ab74-9eda7be93643"
   },
   "outputs": [
    {
     "data": {
      "text/plain": [
       "Number                   0.650817\n",
       "Precipitation(in)        0.447713\n",
       "Wind_Chill(F)            0.407299\n",
       "Wind_Speed(mph)          0.105677\n",
       "End_Lat                  0.097303\n",
       "End_Lng                  0.097303\n",
       "Visibility(mi)           0.024798\n",
       "Weather_Condition        0.024720\n",
       "Humidity(%)              0.024520\n",
       "Temperature(F)           0.023128\n",
       "Wind_Direction           0.021838\n",
       "Pressure(in)             0.019579\n",
       "Weather_Timestamp        0.016141\n",
       "Airport_Code             0.002273\n",
       "Timezone                 0.001180\n",
       "Zipcode                  0.000383\n",
       "Nautical_Twilight        0.000038\n",
       "Astronomical_Twilight    0.000038\n",
       "Civil_Twilight           0.000038\n",
       "Sunrise_Sunset           0.000038\n",
       "City                     0.000037\n",
       "Amenity                  0.000000\n",
       "Severity                 0.000000\n",
       "Start_Time               0.000000\n",
       "End_Time                 0.000000\n",
       "Start_Lat                0.000000\n",
       "Start_Lng                0.000000\n",
       "Distance(mi)             0.000000\n",
       "Description              0.000000\n",
       "Turning_Loop             0.000000\n",
       "Street                   0.000000\n",
       "Side                     0.000000\n",
       "County                   0.000000\n",
       "Bump                     0.000000\n",
       "State                    0.000000\n",
       "Traffic_Signal           0.000000\n",
       "Country                  0.000000\n",
       "Traffic_Calming          0.000000\n",
       "Stop                     0.000000\n",
       "Station                  0.000000\n",
       "Roundabout               0.000000\n",
       "Railway                  0.000000\n",
       "No_Exit                  0.000000\n",
       "Junction                 0.000000\n",
       "Give_Way                 0.000000\n",
       "Crossing                 0.000000\n",
       "ID                       0.000000\n",
       "dtype: float64"
      ]
     },
     "execution_count": 33,
     "metadata": {
      "tags": []
     },
     "output_type": "execute_result"
    }
   ],
   "source": [
    "missing_percentages = df.isna().sum().sort_values(ascending = False) / len(df)\n",
    "\n",
    "missing_percentages"
   ]
  },
  {
   "cell_type": "code",
   "execution_count": 34,
   "metadata": {
    "colab": {
     "base_uri": "https://localhost:8080/"
    },
    "executionInfo": {
     "elapsed": 308,
     "status": "ok",
     "timestamp": 1623681616368,
     "user": {
      "displayName": "Elif Karaboga",
      "photoUrl": "https://lh3.googleusercontent.com/a-/AOh14Gi3My-ypBw9CYZ21jJZatx__T6CC1RXP3T-MAt70Q=s64",
      "userId": "00247782612075877940"
     },
     "user_tz": -180
    },
    "id": "rWNPaOe39vR_",
    "outputId": "2ae23640-fdf4-401d-e58d-99025b3fddd4"
   },
   "outputs": [
    {
     "data": {
      "text/plain": [
       "pandas.core.series.Series"
      ]
     },
     "execution_count": 34,
     "metadata": {
      "tags": []
     },
     "output_type": "execute_result"
    }
   ],
   "source": [
    "type(missing_percentages)"
   ]
  },
  {
   "cell_type": "code",
   "execution_count": 38,
   "metadata": {
    "colab": {
     "base_uri": "https://localhost:8080/",
     "height": 282
    },
    "executionInfo": {
     "elapsed": 725,
     "status": "ok",
     "timestamp": 1623681923946,
     "user": {
      "displayName": "Elif Karaboga",
      "photoUrl": "https://lh3.googleusercontent.com/a-/AOh14Gi3My-ypBw9CYZ21jJZatx__T6CC1RXP3T-MAt70Q=s64",
      "userId": "00247782612075877940"
     },
     "user_tz": -180
    },
    "id": "BaTRHVxP9YPo",
    "outputId": "f5a83358-1e57-44a4-e28f-c826d6db3dc4"
   },
   "outputs": [
    {
     "data": {
      "text/plain": [
       "<matplotlib.axes._subplots.AxesSubplot at 0x7f7f1738e2d0>"
      ]
     },
     "execution_count": 38,
     "metadata": {
      "tags": []
     },
     "output_type": "execute_result"
    },
    {
     "data": {
      "image/png": "[encoded data removed]",
      "text/plain": [
       "<Figure size 432x288 with 1 Axes>"
      ]
     },
     "metadata": {
      "needs_background": "light",
      "tags": []
     },
     "output_type": "display_data"
    }
   ],
   "source": [
    "missing_percentages[missing_percentages != 0].plot(kind='barh')"
   ]
  },
  {
   "cell_type": "markdown",
   "metadata": {
    "id": "QyUlQIqP_Qpo"
   },
   "source": [
    "Remove columns that you don't want to use."
   ]
  },
  {
   "cell_type": "markdown",
   "metadata": {
    "id": "6SYpFOxmwfYw"
   },
   "source": [
    "# Exploratory Analysis and Visualization\n",
    "Columns we'll analyze:\n",
    "1.   City\n",
    "2.   Start time\n",
    "3. Start Lat, Start Lng\n",
    "4. Temperature\n",
    "5. Weather Condition\n",
    "\n"
   ]
  },
  {
   "cell_type": "markdown",
   "metadata": {
    "id": "y59mADTML--k"
   },
   "source": [
    "City"
   ]
  },
  {
   "cell_type": "code",
   "execution_count": 42,
   "metadata": {
    "colab": {
     "base_uri": "https://localhost:8080/"
    },
    "executionInfo": {
     "elapsed": 360,
     "status": "ok",
     "timestamp": 1623682328401,
     "user": {
      "displayName": "Elif Karaboga",
      "photoUrl": "https://lh3.googleusercontent.com/a-/AOh14Gi3My-ypBw9CYZ21jJZatx__T6CC1RXP3T-MAt70Q=s64",
      "userId": "00247782612075877940"
     },
     "user_tz": -180
    },
    "id": "jRwjEyITAWax",
    "outputId": "3cc4fb63-0632-4f5b-bc76-9b9f5dd3a17e"
   },
   "outputs": [
    {
     "data": {
      "text/plain": [
       "11790"
      ]
     },
     "execution_count": 42,
     "metadata": {
      "tags": []
     },
     "output_type": "execute_result"
    }
   ],
   "source": [
    "cities = df.City.unique()\n",
    "len(cities)"
   ]
  },
  {
   "cell_type": "code",
   "execution_count": 45,
   "metadata": {
    "colab": {
     "base_uri": "https://localhost:8080/"
    },
    "executionInfo": {
     "elapsed": 728,
     "status": "ok",
     "timestamp": 1623682713443,
     "user": {
      "displayName": "Elif Karaboga",
      "photoUrl": "https://lh3.googleusercontent.com/a-/AOh14Gi3My-ypBw9CYZ21jJZatx__T6CC1RXP3T-MAt70Q=s64",
      "userId": "00247782612075877940"
     },
     "user_tz": -180
    },
    "id": "7CO_rAYmA-hS",
    "outputId": "7ffe2e35-625c-41de-f760-ff8b37e7ea88"
   },
   "outputs": [
    {
     "data": {
      "text/plain": [
       "Los Angeles                68411\n",
       "Houston                    68265\n",
       "Charlotte                  56176\n",
       "Miami                      49965\n",
       "Dallas                     48525\n",
       "                           ...  \n",
       "Aberdeen Proving Ground        1\n",
       "Wisdom                         1\n",
       "Beavercreek Township           1\n",
       "Santa Anna                     1\n",
       "Township 9                     1\n",
       "Name: City, Length: 11789, dtype: int64"
      ]
     },
     "execution_count": 45,
     "metadata": {
      "tags": []
     },
     "output_type": "execute_result"
    }
   ],
   "source": [
    "cities_by_accident = df.City.value_counts()\n",
    "cities_by_accident"
   ]
  },
  {
   "cell_type": "code",
   "execution_count": 48,
   "metadata": {
    "colab": {
     "base_uri": "https://localhost:8080/"
    },
    "executionInfo": {
     "elapsed": 268,
     "status": "ok",
     "timestamp": 1623683260600,
     "user": {
      "displayName": "Elif Karaboga",
      "photoUrl": "https://lh3.googleusercontent.com/a-/AOh14Gi3My-ypBw9CYZ21jJZatx__T6CC1RXP3T-MAt70Q=s64",
      "userId": "00247782612075877940"
     },
     "user_tz": -180
    },
    "id": "Fppfa9H2CNm1",
    "outputId": "42e178be-014b-41f2-f28c-71e0384a34a9"
   },
   "outputs": [
    {
     "data": {
      "text/plain": [
       "Los Angeles      68411\n",
       "Houston          68265\n",
       "Charlotte        56176\n",
       "Miami            49965\n",
       "Dallas           48525\n",
       "Austin           38808\n",
       "Raleigh          31355\n",
       "Atlanta          29244\n",
       "Sacramento       28984\n",
       "Orlando          28092\n",
       "Nashville        25277\n",
       "Baton Rouge      25080\n",
       "Minneapolis      22469\n",
       "San Diego        22329\n",
       "Phoenix          21370\n",
       "Oklahoma City    21292\n",
       "Portland         19432\n",
       "Richmond         18343\n",
       "Seattle          17384\n",
       "Saint Paul       17266\n",
       "Name: City, dtype: int64"
      ]
     },
     "execution_count": 48,
     "metadata": {
      "tags": []
     },
     "output_type": "execute_result"
    }
   ],
   "source": [
    "cities_by_accident [:20]"
   ]
  },
  {
   "cell_type": "code",
   "execution_count": 50,
   "metadata": {
    "colab": {
     "base_uri": "https://localhost:8080/",
     "height": 282
    },
    "executionInfo": {
     "elapsed": 679,
     "status": "ok",
     "timestamp": 1623683361025,
     "user": {
      "displayName": "Elif Karaboga",
      "photoUrl": "https://lh3.googleusercontent.com/a-/AOh14Gi3My-ypBw9CYZ21jJZatx__T6CC1RXP3T-MAt70Q=s64",
      "userId": "00247782612075877940"
     },
     "user_tz": -180
    },
    "id": "-rReY9GZEI3j",
    "outputId": "91599502-8460-4918-db86-da95c6daddd0"
   },
   "outputs": [
    {
     "data": {
      "text/plain": [
       "<matplotlib.axes._subplots.AxesSubplot at 0x7f7f08990c50>"
      ]
     },
     "execution_count": 50,
     "metadata": {
      "tags": []
     },
     "output_type": "execute_result"
    },
    {
     "data": {
      "image/png": "[encoded data removed]",
      "text/plain": [
       "<Figure size 432x288 with 1 Axes>"
      ]
     },
     "metadata": {
      "needs_background": "light",
      "tags": []
     },
     "output_type": "display_data"
    }
   ],
   "source": [
    "cities_by_accident[:20].plot(kind = 'barh')"
   ]
  },
  {
   "cell_type": "code",
   "execution_count": 53,
   "metadata": {
    "executionInfo": {
     "elapsed": 1241,
     "status": "ok",
     "timestamp": 1623683847988,
     "user": {
      "displayName": "Elif Karaboga",
      "photoUrl": "https://lh3.googleusercontent.com/a-/AOh14Gi3My-ypBw9CYZ21jJZatx__T6CC1RXP3T-MAt70Q=s64",
      "userId": "00247782612075877940"
     },
     "user_tz": -180
    },
    "id": "Qlf_3WsmFw3A"
   },
   "outputs": [],
   "source": [
    "import seaborn as sns\n",
    "sns.set_style(\"darkgrid\")"
   ]
  },
  {
   "cell_type": "code",
   "execution_count": 63,
   "metadata": {
    "colab": {
     "base_uri": "https://localhost:8080/",
     "height": 300
    },
    "executionInfo": {
     "elapsed": 1746,
     "status": "ok",
     "timestamp": 1623684612909,
     "user": {
      "displayName": "Elif Karaboga",
      "photoUrl": "https://lh3.googleusercontent.com/a-/AOh14Gi3My-ypBw9CYZ21jJZatx__T6CC1RXP3T-MAt70Q=s64",
      "userId": "00247782612075877940"
     },
     "user_tz": -180
    },
    "id": "5iebd8TNGYLR",
    "outputId": "132ff3db-3837-48e9-e80d-c96f561218de"
   },
   "outputs": [
    {
     "data": {
      "text/plain": [
       "<matplotlib.axes._subplots.AxesSubplot at 0x7f7f07fb6050>"
      ]
     },
     "execution_count": 63,
     "metadata": {
      "tags": []
     },
     "output_type": "execute_result"
    },
    {
     "data": {
      "image/png": "[encoded data removed]",
      "text/plain": [
       "<Figure size 432x288 with 1 Axes>"
      ]
     },
     "metadata": {
      "tags": []
     },
     "output_type": "display_data"
    }
   ],
   "source": [
    "sns.histplot(cities_by_accident, log_scale = True)"
   ]
  },
  {
   "cell_type": "code",
   "execution_count": 64,
   "metadata": {
    "colab": {
     "base_uri": "https://localhost:8080/"
    },
    "executionInfo": {
     "elapsed": 321,
     "status": "ok",
     "timestamp": 1623684868314,
     "user": {
      "displayName": "Elif Karaboga",
      "photoUrl": "https://lh3.googleusercontent.com/a-/AOh14Gi3My-ypBw9CYZ21jJZatx__T6CC1RXP3T-MAt70Q=s64",
      "userId": "00247782612075877940"
     },
     "user_tz": -180
    },
    "id": "xGYCl551KFyN",
    "outputId": "d074c1aa-683e-4998-f929-88f4fe354e83"
   },
   "outputs": [
    {
     "data": {
      "text/plain": [
       "Rociada                    1\n",
       "Ness City                  1\n",
       "Upper Black Eddy           1\n",
       "Fithian                    1\n",
       "Westwood Hills             1\n",
       "                          ..\n",
       "Aberdeen Proving Ground    1\n",
       "Wisdom                     1\n",
       "Beavercreek Township       1\n",
       "Santa Anna                 1\n",
       "Township 9                 1\n",
       "Name: City, Length: 1306, dtype: int64"
      ]
     },
     "execution_count": 64,
     "metadata": {
      "tags": []
     },
     "output_type": "execute_result"
    }
   ],
   "source": [
    "cities_by_accident[cities_by_accident == 1]"
   ]
  },
  {
   "cell_type": "markdown",
   "metadata": {
    "id": "HynDA27cL36c"
   },
   "source": []
  },
  {
   "cell_type": "code",
   "execution_count": 57,
   "metadata": {
    "executionInfo": {
     "elapsed": 528,
     "status": "ok",
     "timestamp": 1623684260069,
     "user": {
      "displayName": "Elif Karaboga",
      "photoUrl": "https://lh3.googleusercontent.com/a-/AOh14Gi3My-ypBw9CYZ21jJZatx__T6CC1RXP3T-MAt70Q=s64",
      "userId": "00247782612075877940"
     },
     "user_tz": -180
    },
    "id": "fObM4uHsHMrK"
   },
   "outputs": [],
   "source": [
    "high_accident_cities = cities_by_accident[cities_by_accident >= 1000]\n",
    "low_accident_cities = cities_by_accident[cities_by_accident < 1000]"
   ]
  },
  {
   "cell_type": "code",
   "execution_count": 60,
   "metadata": {
    "colab": {
     "base_uri": "https://localhost:8080/"
    },
    "executionInfo": {
     "elapsed": 397,
     "status": "ok",
     "timestamp": 1623684289104,
     "user": {
      "displayName": "Elif Karaboga",
      "photoUrl": "https://lh3.googleusercontent.com/a-/AOh14Gi3My-ypBw9CYZ21jJZatx__T6CC1RXP3T-MAt70Q=s64",
      "userId": "00247782612075877940"
     },
     "user_tz": -180
    },
    "id": "8cXY6dh_Hma8",
    "outputId": "65a61dfb-229c-42c9-fa33-47e625e260c1"
   },
   "outputs": [
    {
     "data": {
      "text/plain": [
       "0.04351145038167939"
      ]
     },
     "execution_count": 60,
     "metadata": {
      "tags": []
     },
     "output_type": "execute_result"
    }
   ],
   "source": [
    "len(high_accident_cities) / len(cities)"
   ]
  },
  {
   "cell_type": "code",
   "execution_count": 61,
   "metadata": {
    "colab": {
     "base_uri": "https://localhost:8080/",
     "height": 350
    },
    "executionInfo": {
     "elapsed": 657,
     "status": "ok",
     "timestamp": 1623684419925,
     "user": {
      "displayName": "Elif Karaboga",
      "photoUrl": "https://lh3.googleusercontent.com/a-/AOh14Gi3My-ypBw9CYZ21jJZatx__T6CC1RXP3T-MAt70Q=s64",
      "userId": "00247782612075877940"
     },
     "user_tz": -180
    },
    "id": "3Bq78QKeIaUy",
    "outputId": "0d268a69-0d3b-4035-f392-bd360f7373f5"
   },
   "outputs": [
    {
     "name": "stderr",
     "output_type": "stream",
     "text": [
      "/usr/local/lib/python3.7/dist-packages/seaborn/distributions.py:2557: FutureWarning: `distplot` is a deprecated function and will be removed in a future version. Please adapt your code to use either `displot` (a figure-level function with similar flexibility) or `histplot` (an axes-level function for histograms).\n",
      "  warnings.warn(msg, FutureWarning)\n"
     ]
    },
    {
     "data": {
      "text/plain": [
       "<matplotlib.axes._subplots.AxesSubplot at 0x7f7f080dc290>"
      ]
     },
     "execution_count": 61,
     "metadata": {
      "tags": []
     },
     "output_type": "execute_result"
    },
    {
     "data": {
      "image/png": "[encoded data removed]",
      "text/plain": [
       "<Figure size 432x288 with 1 Axes>"
      ]
     },
     "metadata": {
      "tags": []
     },
     "output_type": "display_data"
    }
   ],
   "source": [
    "sns.distplot(high_accident_cities)"
   ]
  },
  {
   "cell_type": "code",
   "execution_count": 62,
   "metadata": {
    "colab": {
     "base_uri": "https://localhost:8080/",
     "height": 350
    },
    "executionInfo": {
     "elapsed": 920,
     "status": "ok",
     "timestamp": 1623684493185,
     "user": {
      "displayName": "Elif Karaboga",
      "photoUrl": "https://lh3.googleusercontent.com/a-/AOh14Gi3My-ypBw9CYZ21jJZatx__T6CC1RXP3T-MAt70Q=s64",
      "userId": "00247782612075877940"
     },
     "user_tz": -180
    },
    "id": "qYHQqVMxItmM",
    "outputId": "f97dc37c-25ed-4b18-b4f5-98ef14da87a8"
   },
   "outputs": [
    {
     "name": "stderr",
     "output_type": "stream",
     "text": [
      "/usr/local/lib/python3.7/dist-packages/seaborn/distributions.py:2557: FutureWarning: `distplot` is a deprecated function and will be removed in a future version. Please adapt your code to use either `displot` (a figure-level function with similar flexibility) or `histplot` (an axes-level function for histograms).\n",
      "  warnings.warn(msg, FutureWarning)\n"
     ]
    },
    {
     "data": {
      "text/plain": [
       "<matplotlib.axes._subplots.AxesSubplot at 0x7f7f07f88a90>"
      ]
     },
     "execution_count": 62,
     "metadata": {
      "tags": []
     },
     "output_type": "execute_result"
    },
    {
     "data": {
      "image/png": "[encoded data removed]",
      "text/plain": [
       "<Figure size 432x288 with 1 Axes>"
      ]
     },
     "metadata": {
      "tags": []
     },
     "output_type": "display_data"
    }
   ],
   "source": [
    "sns.distplot(low_accident_cities)"
   ]
  },
  {
   "cell_type": "code",
   "execution_count": 47,
   "metadata": {
    "colab": {
     "base_uri": "https://localhost:8080/"
    },
    "executionInfo": {
     "elapsed": 246,
     "status": "ok",
     "timestamp": 1623682966555,
     "user": {
      "displayName": "Elif Karaboga",
      "photoUrl": "https://lh3.googleusercontent.com/a-/AOh14Gi3My-ypBw9CYZ21jJZatx__T6CC1RXP3T-MAt70Q=s64",
      "userId": "00247782612075877940"
     },
     "user_tz": -180
    },
    "id": "BQQxX88CwkGi",
    "outputId": "0ce6ec07-b871-4a56-e439-a691517f3028"
   },
   "outputs": [
    {
     "data": {
      "text/plain": [
       "False"
      ]
     },
     "execution_count": 47,
     "metadata": {
      "tags": []
     },
     "output_type": "execute_result"
    }
   ],
   "source": [
    "'New York' in df.City"
   ]
  },
  {
   "cell_type": "markdown",
   "metadata": {
    "id": "uE2foVDMMHxQ"
   },
   "source": [
    "Start Time"
   ]
  },
  {
   "cell_type": "code",
   "execution_count": 65,
   "metadata": {
    "colab": {
     "base_uri": "https://localhost:8080/"
    },
    "executionInfo": {
     "elapsed": 420,
     "status": "ok",
     "timestamp": 1623685402434,
     "user": {
      "displayName": "Elif Karaboga",
      "photoUrl": "https://lh3.googleusercontent.com/a-/AOh14Gi3My-ypBw9CYZ21jJZatx__T6CC1RXP3T-MAt70Q=s64",
      "userId": "00247782612075877940"
     },
     "user_tz": -180
    },
    "id": "cbVBLlLVMLws",
    "outputId": "77e68347-e618-45d7-da70-3236e62e25d3"
   },
   "outputs": [
    {
     "data": {
      "text/plain": [
       "0          2019-05-21 08:29:55\n",
       "1          2019-10-07 17:43:09\n",
       "2          2020-12-13 21:53:00\n",
       "3          2018-04-17 16:51:23\n",
       "4          2016-08-31 17:40:49\n",
       "                  ...         \n",
       "2906605    2018-06-28 08:49:01\n",
       "2906606    2019-01-10 02:01:01\n",
       "2906607    2020-11-23 12:52:00\n",
       "2906608    2019-12-29 22:38:00\n",
       "2906609    2018-03-26 13:35:03\n",
       "Name: Start_Time, Length: 2906610, dtype: object"
      ]
     },
     "execution_count": 65,
     "metadata": {
      "tags": []
     },
     "output_type": "execute_result"
    }
   ],
   "source": [
    "df.Start_Time"
   ]
  },
  {
   "cell_type": "code",
   "execution_count": 67,
   "metadata": {
    "executionInfo": {
     "elapsed": 757,
     "status": "ok",
     "timestamp": 1623685554239,
     "user": {
      "displayName": "Elif Karaboga",
      "photoUrl": "https://lh3.googleusercontent.com/a-/AOh14Gi3My-ypBw9CYZ21jJZatx__T6CC1RXP3T-MAt70Q=s64",
      "userId": "00247782612075877940"
     },
     "user_tz": -180
    },
    "id": "7-TKxWj-Mo0x"
   },
   "outputs": [],
   "source": [
    "df.Start_Time = pd.to_datetime(df.Start_Time)"
   ]
  },
  {
   "cell_type": "markdown",
   "metadata": {
    "id": "uN1Yhy4LPk4M"
   },
   "source": [
    "-Figure out how to show the percentages"
   ]
  },
  {
   "cell_type": "code",
   "execution_count": 76,
   "metadata": {
    "colab": {
     "base_uri": "https://localhost:8080/",
     "height": 351
    },
    "executionInfo": {
     "elapsed": 1256,
     "status": "ok",
     "timestamp": 1623686744916,
     "user": {
      "displayName": "Elif Karaboga",
      "photoUrl": "https://lh3.googleusercontent.com/a-/AOh14Gi3My-ypBw9CYZ21jJZatx__T6CC1RXP3T-MAt70Q=s64",
      "userId": "00247782612075877940"
     },
     "user_tz": -180
    },
    "id": "Up7cvDxUM5Qv",
    "outputId": "4efe338a-ee11-491d-bc3c-0cd01828f022"
   },
   "outputs": [
    {
     "name": "stderr",
     "output_type": "stream",
     "text": [
      "/usr/local/lib/python3.7/dist-packages/seaborn/distributions.py:2557: FutureWarning: `distplot` is a deprecated function and will be removed in a future version. Please adapt your code to use either `displot` (a figure-level function with similar flexibility) or `histplot` (an axes-level function for histograms).\n",
      "  warnings.warn(msg, FutureWarning)\n"
     ]
    },
    {
     "data": {
      "text/plain": [
       "<matplotlib.axes._subplots.AxesSubplot at 0x7f7efd84b3d0>"
      ]
     },
     "execution_count": 76,
     "metadata": {
      "tags": []
     },
     "output_type": "execute_result"
    },
    {
     "data": {
      "image/png": "[encoded data removed]",
      "text/plain": [
       "<Figure size 432x288 with 1 Axes>"
      ]
     },
     "metadata": {
      "tags": []
     },
     "output_type": "display_data"
    }
   ],
   "source": [
    "sns.distplot(df.Start_Time.dt.hour , bins=24, kde=False, norm_hist=True)"
   ]
  },
  {
   "cell_type": "markdown",
   "metadata": {
    "id": "5_59Hk_ZP640"
   },
   "source": [
    "-A high percentage of accidents occur between 7 am to 8 am (probably people are in hurry or sleepy) and 4 pm and 5 pm (going to home from work)"
   ]
  },
  {
   "cell_type": "code",
   "execution_count": 77,
   "metadata": {
    "colab": {
     "base_uri": "https://localhost:8080/",
     "height": 351
    },
    "executionInfo": {
     "elapsed": 1148,
     "status": "ok",
     "timestamp": 1623686858050,
     "user": {
      "displayName": "Elif Karaboga",
      "photoUrl": "https://lh3.googleusercontent.com/a-/AOh14Gi3My-ypBw9CYZ21jJZatx__T6CC1RXP3T-MAt70Q=s64",
      "userId": "00247782612075877940"
     },
     "user_tz": -180
    },
    "id": "Biazy_RbRNwN",
    "outputId": "262e1dc5-b7a1-49f2-c7bd-d802e8028eb5"
   },
   "outputs": [
    {
     "name": "stderr",
     "output_type": "stream",
     "text": [
      "/usr/local/lib/python3.7/dist-packages/seaborn/distributions.py:2557: FutureWarning: `distplot` is a deprecated function and will be removed in a future version. Please adapt your code to use either `displot` (a figure-level function with similar flexibility) or `histplot` (an axes-level function for histograms).\n",
      "  warnings.warn(msg, FutureWarning)\n"
     ]
    },
    {
     "data": {
      "text/plain": [
       "<matplotlib.axes._subplots.AxesSubplot at 0x7f7efd74f290>"
      ]
     },
     "execution_count": 77,
     "metadata": {
      "tags": []
     },
     "output_type": "execute_result"
    },
    {
     "data": {
      "image/png": "[encoded data removed]",
      "text/plain": [
       "<Figure size 432x288 with 1 Axes>"
      ]
     },
     "metadata": {
      "tags": []
     },
     "output_type": "display_data"
    }
   ],
   "source": [
    "sns.distplot(df.Start_Time.dt.dayofweek, bins=7, kde=False, norm_hist=True)"
   ]
  },
  {
   "cell_type": "markdown",
   "metadata": {
    "id": "ABQZ1DN5SFxN"
   },
   "source": [
    "Is the distribution of accidents by hour the same on weekends as on weekdays ?"
   ]
  },
  {
   "cell_type": "code",
   "execution_count": 78,
   "metadata": {
    "colab": {
     "base_uri": "https://localhost:8080/",
     "height": 351
    },
    "executionInfo": {
     "elapsed": 968,
     "status": "ok",
     "timestamp": 1623687210537,
     "user": {
      "displayName": "Elif Karaboga",
      "photoUrl": "https://lh3.googleusercontent.com/a-/AOh14Gi3My-ypBw9CYZ21jJZatx__T6CC1RXP3T-MAt70Q=s64",
      "userId": "00247782612075877940"
     },
     "user_tz": -180
    },
    "id": "eT6btgseSVeQ",
    "outputId": "698b607a-84f2-4daf-d007-8f6c2c8a5708"
   },
   "outputs": [
    {
     "name": "stderr",
     "output_type": "stream",
     "text": [
      "/usr/local/lib/python3.7/dist-packages/seaborn/distributions.py:2557: FutureWarning: `distplot` is a deprecated function and will be removed in a future version. Please adapt your code to use either `displot` (a figure-level function with similar flexibility) or `histplot` (an axes-level function for histograms).\n",
      "  warnings.warn(msg, FutureWarning)\n"
     ]
    },
    {
     "data": {
      "text/plain": [
       "<matplotlib.axes._subplots.AxesSubplot at 0x7f7efd65d8d0>"
      ]
     },
     "execution_count": 78,
     "metadata": {
      "tags": []
     },
     "output_type": "execute_result"
    },
    {
     "data": {
      "image/png": "[encoded data removed]",
      "text/plain": [
       "<Figure size 432x288 with 1 Axes>"
      ]
     },
     "metadata": {
      "tags": []
     },
     "output_type": "display_data"
    }
   ],
   "source": [
    "sundays_start_time = df.Start_Time[df.Start_Time.dt.dayofweek == 6]\n",
    "sns.distplot(sundays_start_time.dt.hour, bins = 24, kde = False, norm_hist=True)"
   ]
  },
  {
   "cell_type": "code",
   "execution_count": 79,
   "metadata": {
    "colab": {
     "base_uri": "https://localhost:8080/",
     "height": 351
    },
    "executionInfo": {
     "elapsed": 1088,
     "status": "ok",
     "timestamp": 1623687364108,
     "user": {
      "displayName": "Elif Karaboga",
      "photoUrl": "https://lh3.googleusercontent.com/a-/AOh14Gi3My-ypBw9CYZ21jJZatx__T6CC1RXP3T-MAt70Q=s64",
      "userId": "00247782612075877940"
     },
     "user_tz": -180
    },
    "id": "qXQ6NdPpTW4k",
    "outputId": "85a414ca-0a57-454f-a2cf-21b22443cc4f"
   },
   "outputs": [
    {
     "name": "stderr",
     "output_type": "stream",
     "text": [
      "/usr/local/lib/python3.7/dist-packages/seaborn/distributions.py:2557: FutureWarning: `distplot` is a deprecated function and will be removed in a future version. Please adapt your code to use either `displot` (a figure-level function with similar flexibility) or `histplot` (an axes-level function for histograms).\n",
      "  warnings.warn(msg, FutureWarning)\n"
     ]
    },
    {
     "data": {
      "text/plain": [
       "<matplotlib.axes._subplots.AxesSubplot at 0x7f7efd318210>"
      ]
     },
     "execution_count": 79,
     "metadata": {
      "tags": []
     },
     "output_type": "execute_result"
    },
    {
     "data": {
      "image/png": "[encoded data removed]",
      "text/plain": [
       "<Figure size 432x288 with 1 Axes>"
      ]
     },
     "metadata": {
      "tags": []
     },
     "output_type": "display_data"
    }
   ],
   "source": [
    "monday_start_time = df.Start_Time[df.Start_Time.dt.dayofweek == 0]\n",
    "sns.distplot(monday_start_time.dt.hour, bins=24, kde=False, norm_hist=True)"
   ]
  },
  {
   "cell_type": "markdown",
   "metadata": {
    "id": "HfagMZ8NT1wj"
   },
   "source": [
    "On sundays, the peak occurs 1 and 2 pm unlike weekdays."
   ]
  },
  {
   "cell_type": "code",
   "execution_count": 80,
   "metadata": {
    "colab": {
     "base_uri": "https://localhost:8080/",
     "height": 351
    },
    "executionInfo": {
     "elapsed": 1373,
     "status": "ok",
     "timestamp": 1623687544758,
     "user": {
      "displayName": "Elif Karaboga",
      "photoUrl": "https://lh3.googleusercontent.com/a-/AOh14Gi3My-ypBw9CYZ21jJZatx__T6CC1RXP3T-MAt70Q=s64",
      "userId": "00247782612075877940"
     },
     "user_tz": -180
    },
    "id": "oxAjTpsHUPXd",
    "outputId": "9c75695c-a630-4974-aa0a-4f1b774942a2"
   },
   "outputs": [
    {
     "name": "stderr",
     "output_type": "stream",
     "text": [
      "/usr/local/lib/python3.7/dist-packages/seaborn/distributions.py:2557: FutureWarning: `distplot` is a deprecated function and will be removed in a future version. Please adapt your code to use either `displot` (a figure-level function with similar flexibility) or `histplot` (an axes-level function for histograms).\n",
      "  warnings.warn(msg, FutureWarning)\n"
     ]
    },
    {
     "data": {
      "text/plain": [
       "<matplotlib.axes._subplots.AxesSubplot at 0x7f7ee8411b10>"
      ]
     },
     "execution_count": 80,
     "metadata": {
      "tags": []
     },
     "output_type": "execute_result"
    },
    {
     "data": {
      "image/png": "[encoded data removed]",
      "text/plain": [
       "<Figure size 432x288 with 1 Axes>"
      ]
     },
     "metadata": {
      "tags": []
     },
     "output_type": "display_data"
    }
   ],
   "source": [
    "sns.distplot(monday_start_time.dt.month, bins=12, kde=False, norm_hist=True)"
   ]
  },
  {
   "cell_type": "markdown",
   "metadata": {
    "id": "zSkyhUcCWnx8"
   },
   "source": [
    "Start Latitude and Longitude"
   ]
  },
  {
   "cell_type": "code",
   "execution_count": 81,
   "metadata": {
    "colab": {
     "base_uri": "https://localhost:8080/"
    },
    "executionInfo": {
     "elapsed": 319,
     "status": "ok",
     "timestamp": 1623688157498,
     "user": {
      "displayName": "Elif Karaboga",
      "photoUrl": "https://lh3.googleusercontent.com/a-/AOh14Gi3My-ypBw9CYZ21jJZatx__T6CC1RXP3T-MAt70Q=s64",
      "userId": "00247782612075877940"
     },
     "user_tz": -180
    },
    "id": "E8jEoBWxWmdI",
    "outputId": "051e465f-773c-460e-c442-c729bd47a7e4"
   },
   "outputs": [
    {
     "data": {
      "text/plain": [
       "0          34.808868\n",
       "1          35.090080\n",
       "2          37.145730\n",
       "3          39.110390\n",
       "4          26.102942\n",
       "             ...    \n",
       "2906605    29.813824\n",
       "2906606    34.068890\n",
       "2906607    25.702200\n",
       "2906608    40.660140\n",
       "2906609    38.831749\n",
       "Name: Start_Lat, Length: 2906610, dtype: float64"
      ]
     },
     "execution_count": 81,
     "metadata": {
      "tags": []
     },
     "output_type": "execute_result"
    }
   ],
   "source": [
    "df.Start_Lat"
   ]
  },
  {
   "cell_type": "code",
   "execution_count": 82,
   "metadata": {
    "colab": {
     "base_uri": "https://localhost:8080/"
    },
    "executionInfo": {
     "elapsed": 288,
     "status": "ok",
     "timestamp": 1623688171343,
     "user": {
      "displayName": "Elif Karaboga",
      "photoUrl": "https://lh3.googleusercontent.com/a-/AOh14Gi3My-ypBw9CYZ21jJZatx__T6CC1RXP3T-MAt70Q=s64",
      "userId": "00247782612075877940"
     },
     "user_tz": -180
    },
    "id": "UoLqv4MQWmUC",
    "outputId": "4a0c47b0-39bc-46a9-e664-3df9154c8106"
   },
   "outputs": [
    {
     "data": {
      "text/plain": [
       "0          -82.269157\n",
       "1          -80.745560\n",
       "2         -121.985052\n",
       "3         -119.773781\n",
       "4          -80.265091\n",
       "              ...    \n",
       "2906605    -95.399437\n",
       "2906606   -117.342010\n",
       "2906607    -80.335556\n",
       "2906608   -111.952460\n",
       "2906609   -104.748161\n",
       "Name: Start_Lng, Length: 2906610, dtype: float64"
      ]
     },
     "execution_count": 82,
     "metadata": {
      "tags": []
     },
     "output_type": "execute_result"
    }
   ],
   "source": [
    "df.Start_Lng"
   ]
  },
  {
   "cell_type": "code",
   "execution_count": 84,
   "metadata": {
    "executionInfo": {
     "elapsed": 2148,
     "status": "ok",
     "timestamp": 1623688812864,
     "user": {
      "displayName": "Elif Karaboga",
      "photoUrl": "https://lh3.googleusercontent.com/a-/AOh14Gi3My-ypBw9CYZ21jJZatx__T6CC1RXP3T-MAt70Q=s64",
      "userId": "00247782612075877940"
     },
     "user_tz": -180
    },
    "id": "e8VwEz6jZDEN"
   },
   "outputs": [],
   "source": [
    "sample_df = df.sample(int (0.1 * len(df)))"
   ]
  },
  {
   "cell_type": "code",
   "execution_count": 86,
   "metadata": {
    "colab": {
     "base_uri": "https://localhost:8080/",
     "height": 299
    },
    "executionInfo": {
     "elapsed": 1989,
     "status": "ok",
     "timestamp": 1623688845548,
     "user": {
      "displayName": "Elif Karaboga",
      "photoUrl": "https://lh3.googleusercontent.com/a-/AOh14Gi3My-ypBw9CYZ21jJZatx__T6CC1RXP3T-MAt70Q=s64",
      "userId": "00247782612075877940"
     },
     "user_tz": -180
    },
    "id": "OfYDnHEKYVIe",
    "outputId": "5144f5e2-d943-4795-ccc3-e84ecfe328b7"
   },
   "outputs": [
    {
     "data": {
      "text/plain": [
       "<matplotlib.axes._subplots.AxesSubplot at 0x7f7ee5bb8d10>"
      ]
     },
     "execution_count": 86,
     "metadata": {
      "tags": []
     },
     "output_type": "execute_result"
    },
    {
     "data": {
      "image/png": "[encoded data removed]",
      "text/plain": [
       "<Figure size 432x288 with 1 Axes>"
      ]
     },
     "metadata": {
      "tags": []
     },
     "output_type": "display_data"
    }
   ],
   "source": [
    "sns.scatterplot(x=sample_df.Start_Lng, y=sample_df.Start_Lat)"
   ]
  },
  {
   "cell_type": "code",
   "execution_count": 88,
   "metadata": {
    "executionInfo": {
     "elapsed": 712,
     "status": "ok",
     "timestamp": 1623689130794,
     "user": {
      "displayName": "Elif Karaboga",
      "photoUrl": "https://lh3.googleusercontent.com/a-/AOh14Gi3My-ypBw9CYZ21jJZatx__T6CC1RXP3T-MAt70Q=s64",
      "userId": "00247782612075877940"
     },
     "user_tz": -180
    },
    "id": "Piq-81hIaKuW"
   },
   "outputs": [],
   "source": [
    "import folium"
   ]
  },
  {
   "cell_type": "code",
   "execution_count": 91,
   "metadata": {
    "colab": {
     "base_uri": "https://localhost:8080/"
    },
    "executionInfo": {
     "elapsed": 353,
     "status": "ok",
     "timestamp": 1623689256903,
     "user": {
      "displayName": "Elif Karaboga",
      "photoUrl": "https://lh3.googleusercontent.com/a-/AOh14Gi3My-ypBw9CYZ21jJZatx__T6CC1RXP3T-MAt70Q=s64",
      "userId": "00247782612075877940"
     },
     "user_tz": -180
    },
    "id": "LEHBDUBBatWU",
    "outputId": "f8e2e675-e074-4a45-f664-5d2b9820e9d6"
   },
   "outputs": [
    {
     "data": {
      "text/plain": [
       "(34.808868, -82.26915699999998)"
      ]
     },
     "execution_count": 91,
     "metadata": {
      "tags": []
     },
     "output_type": "execute_result"
    }
   ],
   "source": [
    "lat, lon = df.Start_Lat[0], df.Start_Lng[0]\n",
    "lat, lon"
   ]
  },
  {
   "cell_type": "code",
   "execution_count": 100,
   "metadata": {
    "colab": {
     "base_uri": "https://localhost:8080/"
    },
    "executionInfo": {
     "elapsed": 330,
     "status": "ok",
     "timestamp": 1623689811606,
     "user": {
      "displayName": "Elif Karaboga",
      "photoUrl": "https://lh3.googleusercontent.com/a-/AOh14Gi3My-ypBw9CYZ21jJZatx__T6CC1RXP3T-MAt70Q=s64",
      "userId": "00247782612075877940"
     },
     "user_tz": -180
    },
    "id": "Sq89oQwEb0HX",
    "outputId": "e5796d62-eeff-469c-b940-d73bec5cde8b"
   },
   "outputs": [
    {
     "name": "stdout",
     "output_type": "stream",
     "text": [
      "24156      34.066514\n",
      "1318930    45.818199\n",
      "1503941    32.796303\n",
      "1462127    35.697036\n",
      "897251     33.701988\n",
      "             ...    \n",
      "491134     37.421535\n",
      "1708305    41.314816\n",
      "1019059    34.155503\n",
      "773882     32.790077\n",
      "2441498    32.806149\n",
      "Name: Start_Lat, Length: 100, dtype: float64\n",
      "24156     -117.457729\n",
      "1318930   -119.529492\n",
      "1503941    -96.816345\n",
      "1462127   -120.327383\n",
      "897251     -80.977814\n",
      "              ...    \n",
      "491134    -121.934662\n",
      "1708305    -72.909698\n",
      "1019059   -118.401012\n",
      "773882     -96.787598\n",
      "2441498    -96.762093\n",
      "Name: Start_Lng, Length: 100, dtype: float64\n"
     ]
    }
   ],
   "source": [
    "for x in df[['Start_Lat' , 'Start_Lng']].sample(100).iteritems():\n",
    "  print (x[1])"
   ]
  },
  {
   "cell_type": "code",
   "execution_count": 96,
   "metadata": {
    "colab": {
     "base_uri": "https://localhost:8080/",
     "height": 583
    },
    "executionInfo": {
     "elapsed": 325,
     "status": "ok",
     "timestamp": 1623689412817,
     "user": {
      "displayName": "Elif Karaboga",
      "photoUrl": "https://lh3.googleusercontent.com/a-/AOh14Gi3My-ypBw9CYZ21jJZatx__T6CC1RXP3T-MAt70Q=s64",
      "userId": "00247782612075877940"
     },
     "user_tz": -180
    },
    "id": "k8KdoYI1aMc0",
    "outputId": "5868ebdc-31d6-4913-bafe-e9488660ab0a"
   },
   "outputs": [
    {
     "data": {
      "text/html": [
       "<div style=\"width:100%;\"><div style=\"position:relative;width:100%;height:0;padding-bottom:60%;\"><span style=\"color:#565656\">Make this Notebook Trusted to load map: File -> Trust Notebook</span><iframe src=\"about:blank\" style=\"position:absolute;width:100%;height:100%;left:0;top:0;border:none !important;\" data-html=%3C%21DOCTYPE%20html%3E%0A%3Chead%3E%20%20%20%20%0A%20%20%20%20%3Cmeta%20http-equiv%3D%22content-type%22%20content%3D%22text/html%3B%20charset%3DUTF-8%22%20/%3E%0A%20%20%20%20%3Cscript%3EL_PREFER_CANVAS%3Dfalse%3B%20L_NO_TOUCH%3Dfalse%3B%20L_DISABLE_3D%3Dfalse%3B%3C/script%3E%0A%20%20%20%20%3Cscript%20src%3D%22https%3A//cdn.jsdelivr.net/npm/leaflet%401.4.0/dist/leaflet.js%22%3E%3C/script%3E%0A%20%20%20%20%3Cscript%20src%3D%22https%3A//code.jquery.com/jquery-1.12.4.min.js%22%3E%3C/script%3E%0A%20%20%20%20%3Cscript%20src%3D%22https%3A//maxcdn.bootstrapcdn.com/bootstrap/3.2.0/js/bootstrap.min.js%22%3E%3C/script%3E%0A%20%20%20%20%3Cscript%20src%3D%22https%3A//cdnjs.cloudflare.com/ajax/libs/Leaflet.awesome-markers/2.0.2/leaflet.awesome-markers.js%22%3E%3C/script%3E%0A%20%20%20%20%3Clink%20rel%3D%22stylesheet%22%20href%3D%22https%3A//cdn.jsdelivr.net/npm/leaflet%401.4.0/dist/leaflet.css%22/%3E%0A%20%20%20%20%3Clink%20rel%3D%22stylesheet%22%20href%3D%22https%3A//maxcdn.bootstrapcdn.com/bootstrap/3.2.0/css/bootstrap.min.css%22/%3E%0A%20%20%20%20%3Clink%20rel%3D%22stylesheet%22%20href%3D%22https%3A//maxcdn.bootstrapcdn.com/bootstrap/3.2.0/css/bootstrap-theme.min.css%22/%3E%0A%20%20%20%20%3Clink%20rel%3D%22stylesheet%22%20href%3D%22https%3A//maxcdn.bootstrapcdn.com/font-awesome/4.6.3/css/font-awesome.min.css%22/%3E%0A%20%20%20%20%3Clink%20rel%3D%22stylesheet%22%20href%3D%22https%3A//cdnjs.cloudflare.com/ajax/libs/Leaflet.awesome-markers/2.0.2/leaflet.awesome-markers.css%22/%3E%0A%20%20%20%20%3Clink%20rel%3D%22stylesheet%22%20href%3D%22https%3A//rawcdn.githack.com/python-visualization/folium/master/folium/templates/leaflet.awesome.rotate.css%22/%3E%0A%20%20%20%20%3Cstyle%3Ehtml%2C%20body%20%7Bwidth%3A%20100%25%3Bheight%3A%20100%25%3Bmargin%3A%200%3Bpadding%3A%200%3B%7D%3C/style%3E%0A%20%20%20%20%3Cstyle%3E%23map%20%7Bposition%3Aabsolute%3Btop%3A0%3Bbottom%3A0%3Bright%3A0%3Bleft%3A0%3B%7D%3C/style%3E%0A%20%20%20%20%0A%20%20%20%20%3Cmeta%20name%3D%22viewport%22%20content%3D%22width%3Ddevice-width%2C%0A%20%20%20%20%20%20%20%20initial-scale%3D1.0%2C%20maximum-scale%3D1.0%2C%20user-scalable%3Dno%22%20/%3E%0A%20%20%20%20%3Cstyle%3E%23map_4eebb857891f4a55a668f68922c3c7e6%20%7B%0A%20%20%20%20%20%20%20%20position%3A%20relative%3B%0A%20%20%20%20%20%20%20%20width%3A%20100.0%25%3B%0A%20%20%20%20%20%20%20%20height%3A%20100.0%25%3B%0A%20%20%20%20%20%20%20%20left%3A%200.0%25%3B%0A%20%20%20%20%20%20%20%20top%3A%200.0%25%3B%0A%20%20%20%20%20%20%20%20%7D%0A%20%20%20%20%3C/style%3E%0A%3C/head%3E%0A%3Cbody%3E%20%20%20%20%0A%20%20%20%20%0A%20%20%20%20%3Cdiv%20class%3D%22folium-map%22%20id%3D%22map_4eebb857891f4a55a668f68922c3c7e6%22%20%3E%3C/div%3E%0A%3C/body%3E%0A%3Cscript%3E%20%20%20%20%0A%20%20%20%20%0A%20%20%20%20%0A%20%20%20%20%20%20%20%20var%20bounds%20%3D%20null%3B%0A%20%20%20%20%0A%0A%20%20%20%20var%20map_4eebb857891f4a55a668f68922c3c7e6%20%3D%20L.map%28%0A%20%20%20%20%20%20%20%20%27map_4eebb857891f4a55a668f68922c3c7e6%27%2C%20%7B%0A%20%20%20%20%20%20%20%20center%3A%20%5B0%2C%200%5D%2C%0A%20%20%20%20%20%20%20%20zoom%3A%201%2C%0A%20%20%20%20%20%20%20%20maxBounds%3A%20bounds%2C%0A%20%20%20%20%20%20%20%20layers%3A%20%5B%5D%2C%0A%20%20%20%20%20%20%20%20worldCopyJump%3A%20false%2C%0A%20%20%20%20%20%20%20%20crs%3A%20L.CRS.EPSG3857%2C%0A%20%20%20%20%20%20%20%20zoomControl%3A%20true%2C%0A%20%20%20%20%20%20%20%20%7D%29%3B%0A%0A%0A%20%20%20%20%0A%20%20%20%20var%20tile_layer_074f7f93865244bd9aa29252fa657dc4%20%3D%20L.tileLayer%28%0A%20%20%20%20%20%20%20%20%27https%3A//%7Bs%7D.tile.openstreetmap.org/%7Bz%7D/%7Bx%7D/%7By%7D.png%27%2C%0A%20%20%20%20%20%20%20%20%7B%0A%20%20%20%20%20%20%20%20%22attribution%22%3A%20null%2C%0A%20%20%20%20%20%20%20%20%22detectRetina%22%3A%20false%2C%0A%20%20%20%20%20%20%20%20%22maxNativeZoom%22%3A%2018%2C%0A%20%20%20%20%20%20%20%20%22maxZoom%22%3A%2018%2C%0A%20%20%20%20%20%20%20%20%22minZoom%22%3A%200%2C%0A%20%20%20%20%20%20%20%20%22noWrap%22%3A%20false%2C%0A%20%20%20%20%20%20%20%20%22opacity%22%3A%201%2C%0A%20%20%20%20%20%20%20%20%22subdomains%22%3A%20%22abc%22%2C%0A%20%20%20%20%20%20%20%20%22tms%22%3A%20false%0A%7D%29.addTo%28map_4eebb857891f4a55a668f68922c3c7e6%29%3B%0A%20%20%20%20%0A%20%20%20%20%20%20%20%20var%20marker_f103f37d5623464aae889dee8abed4a8%20%3D%20L.marker%28%0A%20%20%20%20%20%20%20%20%20%20%20%20%5B34.808868%2C%20-82.26915699999998%5D%2C%0A%20%20%20%20%20%20%20%20%20%20%20%20%7B%0A%20%20%20%20%20%20%20%20%20%20%20%20%20%20%20%20icon%3A%20new%20L.Icon.Default%28%29%2C%0A%20%20%20%20%20%20%20%20%20%20%20%20%20%20%20%20%7D%0A%20%20%20%20%20%20%20%20%20%20%20%20%29.addTo%28map_4eebb857891f4a55a668f68922c3c7e6%29%3B%0A%20%20%20%20%20%20%20%20%0A%3C/script%3E onload=\"this.contentDocument.open();this.contentDocument.write(    decodeURIComponent(this.getAttribute('data-html')));this.contentDocument.close();\" allowfullscreen webkitallowfullscreen mozallowfullscreen></iframe></div></div>"
      ],
      "text/plain": [
       "<folium.folium.Map at 0x7f7ee3c958d0>"
      ]
     },
     "execution_count": 96,
     "metadata": {
      "tags": []
     },
     "output_type": "execute_result"
    }
   ],
   "source": [
    "map = folium.Map()\n",
    "for lat, lon in\n",
    "marker = folium.Marker((lat, lon))\n",
    "marker.add_to(map)\n",
    "map"
   ]
  },
  {
   "cell_type": "markdown",
   "metadata": {
    "id": "oEcztPKlwqjH"
   },
   "source": [
    "# Ask and Answer Questions\n",
    "\n",
    "1.   Are there more accidents in warmer or colder areas?\n",
    "2.   Which 5 states have the highest number of accidents? How about per capital?\n",
    "3. Does New York shows up in the data? If yes, then why is the count lower if it is the most populated city?\n",
    "4. Among the top 100 cities in number of accidents, which states do they belong to most frequently?\n",
    "5. What time of the day are accidents are most frequent in?\n",
    "6. Which days of the week have the most accidents?\n",
    "7. Which months have the most accidents?\n",
    "8. What is the trend of accidents year over year? (decreasing/increasing)\n",
    "9. When is accidents per unit of traffic the highest?\n",
    "\n"
   ]
  },
  {
   "cell_type": "code",
   "execution_count": null,
   "metadata": {
    "id": "KiitaGt9wtBi"
   },
   "outputs": [],
   "source": []
  },
  {
   "cell_type": "code",
   "execution_count": null,
   "metadata": {
    "id": "fIeWtmMpwtpJ"
   },
   "outputs": [],
   "source": []
  },
  {
   "cell_type": "markdown",
   "metadata": {
    "id": "qcFHMILywuU-"
   },
   "source": []
  },
  {
   "cell_type": "markdown",
   "metadata": {
    "id": "K-KWA_t1wy0C"
   },
   "source": [
    "# Summary and Conclusion\n",
    "\n",
    "Insights: \n",
    "* No data from New York\n",
    "* Less than %4 of cities have more than 1000 yearly accidents\n",
    "* Over 1300 cities have reported just one accident (need to investigate)\n",
    "*Number of accidents per city decreases exponentially"
   ]
  },
  {
   "cell_type": "code",
   "execution_count": 101,
   "metadata": {
    "executionInfo": {
     "elapsed": 267,
     "status": "ok",
     "timestamp": 1623690692618,
     "user": {
      "displayName": "Elif Karaboga",
      "photoUrl": "https://lh3.googleusercontent.com/a-/AOh14Gi3My-ypBw9CYZ21jJZatx__T6CC1RXP3T-MAt70Q=s64",
      "userId": "00247782612075877940"
     },
     "user_tz": -180
    },
    "id": "EmC4BYqkw09f"
   },
   "outputs": [],
   "source": [
    "import "
   ]
  },
  {
   "cell_type": "code",
   "execution_count": 102,
   "metadata": {
    "colab": {
     "base_uri": "https://localhost:8080/",
     "height": 163
    },
    "executionInfo": {
     "elapsed": 539,
     "status": "error",
     "timestamp": 1623690710435,
     "user": {
      "displayName": "Elif Karaboga",
      "photoUrl": "https://lh3.googleusercontent.com/a-/AOh14Gi3My-ypBw9CYZ21jJZatx__T6CC1RXP3T-MAt70Q=s64",
      "userId": "00247782612075877940"
     },
     "user_tz": -180
    },
    "id": "yp1wsMcow1c-",
    "outputId": "8f662537-e6b2-43b9-edad-e5aa8ccd4be8"
   },
   "outputs": [
    {
     "ename": "AttributeError",
     "evalue": "ignored",
     "output_type": "error",
     "traceback": [
      "\u001b[0;31m---------------------------------------------------------------------------\u001b[0m",
      "\u001b[0;31mAttributeError\u001b[0m                            Traceback (most recent call last)",
      "\u001b[0;32m<ipython-input-102-e8d8e81d77e3>\u001b[0m in \u001b[0;36m<module>\u001b[0;34m()\u001b[0m\n\u001b[0;32m----> 1\u001b[0;31m \u001b[0mkaggle\u001b[0m\u001b[0;34m.\u001b[0m\u001b[0mcommit\u001b[0m\u001b[0;34m(\u001b[0m\u001b[0;34m)\u001b[0m\u001b[0;34m\u001b[0m\u001b[0;34m\u001b[0m\u001b[0m\n\u001b[0m",
      "\u001b[0;31mAttributeError\u001b[0m: module 'kaggle' has no attribute 'commit'"
     ]
    }
   ],
   "source": [
    "kaggle.commit()"
   ]
  }
 ],
 "metadata": {
  "colab": {
   "name": "us-accidents-analysis.ipynb",
   "provenance": []
  },
  "kernelspec": {
   "display_name": "Python 3",
   "language": "python",
   "name": "python3"
  },
  "language_info": {
   "codemirror_mode": {
    "name": "ipython",
    "version": 3
   },
   "file_extension": ".py",
   "mimetype": "text/x-python",
   "name": "python",
   "nbconvert_exporter": "python",
   "pygments_lexer": "ipython3",
   "version": "3.7.6"
  }
 },
 "nbformat": 4,
 "nbformat_minor": 0
}